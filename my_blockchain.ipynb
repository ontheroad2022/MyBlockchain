{
 "cells": [
  {
   "cell_type": "markdown",
   "metadata": {},
   "source": [
    "# 分散ブロックチェーンの実装\n",
    "\n",
    "- 目標は分散ブロックチェーンで各ノードが、ドローンの離着陸地点の予約を管理してるポイントだとして、ドローンの着陸離陸許可がされるさまをつくる事\n",
    "\n",
    "- [Bitcoin論文](https://bitcoin.org/bitcoin.pdf)をもとにblockchainの実装をする\n",
    "    - 天下り的にならないよう，徐々にシステムをパワーアップさせていく方針で作る\n",
    "    - 目標はシンプルなコンセンサスアルゴリズムの実装まで行い，ノード同士が競ってマイニングする様子を眺めること\n",
    "    - 完成形はこんな感じ\n",
    "    \n",
    "    <img src=\"./demo.gif\" width=50%>"
   ]
  },
  {
   "cell_type": "markdown",
   "metadata": {},
   "source": [
    "# 信用のある第三者を介する取引\n",
    "- まずは第三者を介した取引をシミュレーションしてみる\n",
    "- 第三者は取引の公正さのすべてを請け負う"
   ]
  },
  {
   "cell_type": "markdown",
   "metadata": {},
   "source": [
    "## 取引はどのように行うか? - Transactionの実装\n",
    "- 取引記録を発行することで，取引を行う\n",
    "    - Python3.7から実装された[dataclasses](https://docs.python.org/ja/3/library/dataclasses.html#)を使ってみる"
   ]
  },
  {
   "cell_type": "code",
   "execution_count": 1,
   "metadata": {},
   "outputs": [],
   "source": [
    "from __future__ import annotations\n",
    "from dataclasses import dataclass"
   ]
  },
  {
   "cell_type": "code",
   "execution_count": 2,
   "metadata": {},
   "outputs": [],
   "source": [
    "from Crypto.Signature import PKCS1_v1_5\n",
    "from Crypto.Hash import SHA\n",
    "from Crypto.PublicKey import RSA\n",
    "import binascii\n",
    "\n",
    "import json\n",
    "import dataclasses as dc\n",
    "from typing import List\n",
    "\n",
    "import multiprocessing as mp\n",
    "import random\n",
    "from itertools import count\n",
    "from time import sleep\n",
    "\n",
    "from typing import Tuple, Sequence\n",
    "import hashlib\n",
    "\n",
    "from time import time"
   ]
  },
  {
   "cell_type": "code",
   "execution_count": 3,
   "metadata": {},
   "outputs": [],
   "source": [
    "import sys\n",
    "sys.path.append('src/')"
   ]
  },
  {
   "cell_type": "code",
   "execution_count": 4,
   "metadata": {},
   "outputs": [],
   "source": [
    "from block import Block\n",
    "from blockchain import BlockChain\n",
    "from network import Network\n",
    "from wallet import Wallet\n",
    "from smartcontract import Smartcontract"
   ]
  },
  {
   "cell_type": "markdown",
   "metadata": {},
   "source": [
    "- 個人の識別を`address`で行う\n",
    "- 取引額を`value`とする"
   ]
  },
  {
   "cell_type": "markdown",
   "metadata": {},
   "source": [
    "- senderはTransactionを発行して取引を行う"
   ]
  },
  {
   "cell_type": "markdown",
   "metadata": {},
   "source": [
    "- Aliceがtransactionを発行してBankに登録することで，取引が成立する"
   ]
  },
  {
   "cell_type": "markdown",
   "metadata": {},
   "source": [
    "- the_leader_nodeがトランザクションを発行して…等、解釈の変更が必要 "
   ]
  },
  {
   "cell_type": "markdown",
   "metadata": {},
   "source": [
    "- ここで例えば，第三者の信頼度がちょっと落ちたとする\n",
    "    - 取引内容の改ざんはどのように防げばよいだろうか?"
   ]
  },
  {
   "cell_type": "markdown",
   "metadata": {},
   "source": [
    "# 電子署名を用いたtransactionの発行\n",
    "- senderはtransactionに電子署名を行う\n",
    "    - 今回はRSAを用いることにする\n",
    "        - BitCoinは[ECDSA](https://en.bitcoin.it/wiki/Transaction#Input)を用いている\n",
    "    - これによってtransactionの改ざんを検知することができる\n",
    "- 電子署名の公開鍵はどのように扱う?\n",
    "    - 公開鍵をWalletのaddressとする!"
   ]
  },
  {
   "cell_type": "markdown",
   "metadata": {},
   "source": [
    "## Transactionの改良 - 電子署名フィールドの追加\n",
    "- 電子署名できるようにする\n",
    "    - `sign`を追加\n",
    "    - 署名の際，transactionをstrで表すための`str_data` methodも追加\n",
    "- ついでにデータをjson stringに変換するmethodを追加する\n",
    "    - これは後々データのやり取りを簡単にするため"
   ]
  },
  {
   "cell_type": "markdown",
   "metadata": {},
   "source": [
    "## Walletの改良 - 電子署名機能の追加\n",
    "- RSAによる電子署名機能を実装する\n",
    "    - pycryptoを用いる\n",
    "        - 使い方はこれを参照 ([python \\- Signing and verifying data using pycrypto \\(RSA\\) \\- Stack Overflow](https://stackoverflow.com/questions/4232389/signing-and-verifying-data-using-pycrypto-rsa))\n",
    "- 引き続きWalletはaddressを1つのみ持つことにする\n",
    "    - 例えばBitCoinでは匿名性の向上のため，一つのWalletは複数のキーペアを持つことができる ([参考](https://en.bitcoin.it/wiki/Transaction))"
   ]
  },
  {
   "cell_type": "markdown",
   "metadata": {},
   "source": [
    "- pycryptoのkey instanceをstrに変換するhelper functionを実装する\n",
    "    - strにしておく理由は後ほどわかる"
   ]
  },
  {
   "cell_type": "markdown",
   "metadata": {},
   "source": [
    "Walletの改良"
   ]
  },
  {
   "cell_type": "markdown",
   "metadata": {},
   "source": [
    "- 秘密鍵`private_key`の追加 \n",
    "- addressは対応する公開鍵とする\n",
    "- `sign_transaction`の追加\n",
    "    - transactionを受け取り，電子署名付きtransactionを返す\n",
    "- `send`を変更\n",
    "    - 電子署名付きtransactionを生成できるようになった!"
   ]
  },
  {
   "cell_type": "markdown",
   "metadata": {},
   "source": [
    "つぎに，transactionの電子署名をチェックするhelper functionを作る\n",
    "- signatureのpublic keyはtransactionのaddressなので，transactionを見れば電子署名の正当性を判別できる"
   ]
  },
  {
   "cell_type": "markdown",
   "metadata": {},
   "source": [
    "## デモ: RSAを用いたtransactionの発行とチェック\n",
    "先ほどと同じようにデモをしてみる"
   ]
  },
  {
   "cell_type": "markdown",
   "metadata": {},
   "source": [
    "- transactionを発行し，電子署名を行い，bankに提出する"
   ]
  },
  {
   "cell_type": "markdown",
   "metadata": {},
   "source": [
    "- transactionの電子署名を確認してみる"
   ]
  },
  {
   "cell_type": "markdown",
   "metadata": {},
   "source": [
    "- データをちょと変えてみると，不正なtransactionになるのがわかる"
   ]
  },
  {
   "cell_type": "markdown",
   "metadata": {},
   "source": [
    "- これは後にできると面白いかもしれない"
   ]
  },
  {
   "cell_type": "markdown",
   "metadata": {},
   "source": [
    "\n",
    "\n",
    "- transactionの改竄リスクを低減することができた \n",
    "    - しかし依然として，**double-spending problem** を防ぐには信頼のある第三者が必要となる\n",
    "    - これはデータで通貨を作る際の最も大きな障害だった(データは簡単にコピーできるから)\n",
    "- すべてのtransactionが公開されていれば，double-spendingは防げるのでは？\n",
    "    - 公開されていればreceiverも記録をチェックできる"
   ]
  },
  {
   "cell_type": "markdown",
   "metadata": {},
   "source": [
    "# Timestamp Server によるTransactionの公開\n",
    "- いくつかのtransactionをまとめて，timestampをつけ，**block**で公開することを考える\n",
    "    - 信頼のある**timestamp server**がtransactionをまとめてtimestampをつけ，電子署名をして公開する\n",
    "    - ある特定の時刻にそのtransactionが存在したことが保証される\n",
    "- さらに，blockには直前のtimestampのhashを含め，**blockchain**を作る\n",
    "    - blockを改ざんすると，以降のblockは全て不正なものとなる\n",
    "- これでtransactionをチェックしてdouble-spendingを防ぐ第三者は必要なくなった\n",
    "    - transactionは公開されているから，誰でも検証することができる"
   ]
  },
  {
   "cell_type": "markdown",
   "metadata": {},
   "source": [
    "## Blockの実装\n",
    "- strで表現できるよう，json methodを追加する\n",
    "- ついでにhash methodも実装する"
   ]
  },
  {
   "cell_type": "code",
   "execution_count": 5,
   "metadata": {},
   "outputs": [],
   "source": [
    "# from typing import Tuple, Sequence\n",
    "# import hashlib"
   ]
  },
  {
   "cell_type": "markdown",
   "metadata": {},
   "source": [
    "## Timestamp Serverの実装\n",
    "- timestamp serverは以下の流れで**blockchain**を作る\n",
    "    1. transactionのリストを受け取る\n",
    "    2. 一つ前のblockのhashとtimestampをつけてBlockにまとめる\n",
    "    3. **電子署名**をする\n",
    "    4. 公開する"
   ]
  },
  {
   "cell_type": "markdown",
   "metadata": {},
   "source": [
    "- blockの正当性の保証はtimestamp serverの**電子署名**で行う\n",
    "    - serverに RSA キーペアをもたせる\n",
    "- 最初のblockはprevious blockがないため，特別なブロック(**genesis**)を用意する ([参考](https://en.bitcoin.it/wiki/Genesis_block))\n",
    "- blockchainは今回はただのリストにする"
   ]
  },
  {
   "cell_type": "code",
   "execution_count": 6,
   "metadata": {},
   "outputs": [],
   "source": [
    "# from time import time"
   ]
  },
  {
   "cell_type": "markdown",
   "metadata": {},
   "source": [
    "## blockchainの正当性確認\n",
    "- blockchainの正当性を確認するhelper functionを用意する\n",
    "    1. blockの持つ**previous_hash**は正しいか?\n",
    "    2. blockに入っているtransactionは正当か?\n",
    "    3. timestamp serverがつけた電子署名は正当か?"
   ]
  },
  {
   "cell_type": "markdown",
   "metadata": {},
   "source": [
    "- blockの正当性確認"
   ]
  },
  {
   "cell_type": "markdown",
   "metadata": {},
   "source": [
    "- blockchainの正当性確認"
   ]
  },
  {
   "cell_type": "markdown",
   "metadata": {},
   "source": [
    "# Proof-of-Workの実装\n",
    "- これがblockchainの革新的要素\n",
    "- 先程は\"信頼の置ける\" timestamp serverの電子署名が，Blockの正当性を保証していた\n",
    "- では誰でも同じ署名ができれば，誰でもtimestamp serverの仕事ができるのでは?\n",
    "    - 電子署名でやると，当然ブロックの正当性の証明にはならない..\n",
    "- **[HashCash](https://en.bitcoin.it/wiki/Hashcash)**を用いる"
   ]
  },
  {
   "cell_type": "markdown",
   "metadata": {},
   "source": [
    "## Blockにnonceを加える\n",
    "- これがtimestamp serverの電子署名の代わりとなる\n",
    "- blockのハッシュ値が適当な条件を満たすように**nonce**を追加する\n",
    "    - 例えば上4桁が0\n",
    "    - この制約を**difficulty**と呼ぶ\n",
    "    - difficultyは適当に調整される. 例えばbitcoinの場合は，blockの追加のintervalが10分程度になるように調整されるようだ\n",
    "        - [Difficulty \\- Bitcoin Wiki](https://en.bitcoin.it/wiki/Difficulty)\n",
    "    - 今回はdifficultyは固定にする\n",
    "- nonceを見つける作業が**mine**\n",
    "    - nonceを見つけるのは難しい(たくさん試して，あたりを引くしかない)\n",
    "    - これによってblockの生成を非常に高コストにすることができる\n",
    "    - nonceが正しいことを確認するのは簡単\n",
    "        - 電子署名と同様, 正当性の確認が簡単に行える\n",
    "- **mine**は誰でも行える"
   ]
  },
  {
   "cell_type": "markdown",
   "metadata": {},
   "source": [
    "- Blockにnonceをつける．今回の変更はこれだけ"
   ]
  },
  {
   "cell_type": "markdown",
   "metadata": {},
   "source": [
    "## nonce の正当性確認functionを実装"
   ]
  },
  {
   "cell_type": "markdown",
   "metadata": {},
   "source": [
    "## mineの実装\n",
    "- あたりを引くまで手当たり次第試す"
   ]
  },
  {
   "cell_type": "markdown",
   "metadata": {},
   "source": [
    "- ついでにverify_blockも改良"
   ]
  },
  {
   "cell_type": "markdown",
   "metadata": {},
   "source": [
    "- BlockChainもちょっと改良\n",
    "    - 自身をstrに変換するmethodをつける"
   ]
  },
  {
   "cell_type": "markdown",
   "metadata": {},
   "source": [
    "## デモ: tranasctionの発行からminingまで"
   ]
  },
  {
   "attachments": {},
   "cell_type": "markdown",
   "metadata": {},
   "source": [
    "# ＊＊＊＊＊NodeとConsensus Algorithm\n",
    "- 前回までで分散管理の準備は整った\n",
    "- 具体的にblockchainをつくる**node**を実装する\n",
    "- nodeやsender, receiverが集まって**network**を形成する\n",
    "- networkの動きは以下のようになる"
   ]
  },
  {
   "cell_type": "markdown",
   "metadata": {},
   "source": [
    "1. senderがtransaction生成．なるべく多くのnodeにbroadcastする（全てのnodeにbroadcastする事を確認する）\n",
    "2. nodeはtransactionを集めてblockにまとめる\n",
    "3. mine（必要ない）\n",
    "4. 他のnodeにマイニングしたblockをbroadcastする\n",
    "5. blockを受け取ったnodeは，blockの正当性を確認し，double-spendingのチェックをする（チェックはいくらしても良い、必要に応じて外して行く）\n",
    "6. チェックが通れば，次のblockの作成を始める（チェックはないのでいつでもblockを作成できるが、ブロックチェーンではないのか）"
   ]
  },
  {
   "cell_type": "markdown",
   "metadata": {},
   "source": [
    "- Nodeが複数いて，異なるBlockChainを持つときは，どのように正しさを判断するか？\n",
    "    - **Consensus Algorithm**\n",
    "    - 最も長いblockchainを，最も正しいblockchainとみなす\n",
    "        - なぜなら，chainが長ければ長いほど，多くの計算資源が注ぎ込まれたことになるから\n",
    "        - 多数決ではなく，**one-CPU-one-vote**"
   ]
  },
  {
   "cell_type": "markdown",
   "metadata": {},
   "source": [
    "- Nodeの役割を考え直す必要がある\n",
    "\n",
    "- Nodeが複数いて、異なる分散台帳を持つが、それらは論理的に単一である\n",
    "    - **Consensus Algorithm** は簡単なものであり、許可型の分散台帳において、論理的な単一性を保持する"
   ]
  },
  {
   "cell_type": "code",
   "execution_count": 7,
   "metadata": {},
   "outputs": [],
   "source": [
    "# from uuid import uuid4\n",
    "# from time import sleep\n",
    "# from copy import deepcopy\n",
    "# import multiprocessing as mp\n",
    "# import random\n",
    "# from itertools import count"
   ]
  },
  {
   "cell_type": "markdown",
   "metadata": {},
   "source": [
    "- nodeを実装する\n",
    "- networkまわりの細かい作業は，network interfaceに任せる"
   ]
  },
  {
   "cell_type": "markdown",
   "metadata": {},
   "source": [
    "- 改めて、いわゆるマイニングを必要とするノードにおいては、ノードが複雑であると思われる。\n",
    "- コンフリクトは起こらない（２つのコンセンサスアルゴリズムを用意して、その様子を比較検討できるようにする）"
   ]
  },
  {
   "cell_type": "code",
   "execution_count": 8,
   "metadata": {},
   "outputs": [],
   "source": [
    "from node import Node"
   ]
  },
  {
   "cell_type": "markdown",
   "metadata": {},
   "source": [
    "- 全体的に，networkの作業が追加されている\n",
    "- mineを少し変更している\n",
    "    - 複数のnodeが同じ方法でマイニングをするのは無駄が生じる可能性がある\n",
    "        - 例えば全く同じBlockのマイニングを複数のノードが開始した場合，確実に最も計算力の高いnodeがマイニングを成功させることになる"
   ]
  },
  {
   "cell_type": "markdown",
   "metadata": {},
   "source": [
    "- Walletもネットワーク対応に\n",
    "    - transactionを発行したら，知っているnodeにtransactionを送る"
   ]
  },
  {
   "cell_type": "markdown",
   "metadata": {},
   "source": [
    "- networkっぽいものを実装する\n",
    "    - Network classを中継点としてデータの遣り取りをする\n",
    "- あとでmultiprocessでノードを動かすために，データの管理はmultiprocess.managerで行う\n",
    "- flaskとかで作っても面白いかもしれない\n",
    "- 本質的でないので読み飛ばして良い"
   ]
  },
  {
   "cell_type": "markdown",
   "metadata": {},
   "source": [
    "## ノード1つの場合のテスト"
   ]
  },
  {
   "cell_type": "code",
   "execution_count": 9,
   "metadata": {},
   "outputs": [],
   "source": [
    "genesis=Block(time(), (), \"0\")\n",
    "uuid='the_leader_node'\n",
    "network=Network({uuid:[uuid]})\n",
    "node=Node(network, genesis, uuid)"
   ]
  },
  {
   "cell_type": "markdown",
   "metadata": {},
   "source": [
    "### トランザクションはライブラリ化される必要がある"
   ]
  },
  {
   "cell_type": "markdown",
   "metadata": {},
   "source": [
    "### 今回可読性を重要視したため、暗号化は試用していない"
   ]
  },
  {
   "cell_type": "code",
   "execution_count": 10,
   "metadata": {},
   "outputs": [],
   "source": [
    "alice=Wallet(network, [uuid])\n",
    "bob=Wallet(network, [uuid])"
   ]
  },
  {
   "cell_type": "markdown",
   "metadata": {},
   "source": [
    "- これを実行してしばらく問題が起きなければOK\n",
    "    - 適当にinterruptする"
   ]
  },
  {
   "cell_type": "code",
   "execution_count": 11,
   "metadata": {},
   "outputs": [
    {
     "ename": "KeyboardInterrupt",
     "evalue": "",
     "output_type": "error",
     "traceback": [
      "\u001b[0;31m---------------------------------------------------------------------------\u001b[0m",
      "\u001b[0;31mKeyboardInterrupt\u001b[0m                         Traceback (most recent call last)",
      "Cell \u001b[0;32mIn[11], line 1\u001b[0m\n\u001b[0;32m----> 1\u001b[0m node\u001b[39m.\u001b[39;49mwork(verbose\u001b[39m=\u001b[39;49m\u001b[39mFalse\u001b[39;49;00m)\n",
      "File \u001b[0;32m~/MyBlockchain/src/node.py:18\u001b[0m, in \u001b[0;36mNode.work\u001b[0;34m(self, verbose)\u001b[0m\n\u001b[1;32m     16\u001b[0m \u001b[39mwhile\u001b[39;00m \u001b[39mTrue\u001b[39;00m:\n\u001b[1;32m     17\u001b[0m     \u001b[39mif\u001b[39;00m \u001b[39mnot\u001b[39;00m \u001b[39mself\u001b[39m\u001b[39m.\u001b[39mordering():\n\u001b[0;32m---> 18\u001b[0m         sleep(\u001b[39m1.0\u001b[39;49m) \u001b[39m# wait due to no transactions\u001b[39;00m\n\u001b[1;32m     19\u001b[0m     \u001b[39mif\u001b[39;00m \u001b[39mself\u001b[39m\u001b[39m.\u001b[39madd_block():\n\u001b[1;32m     20\u001b[0m         \u001b[39mif\u001b[39;00m verbose: \u001b[39mprint\u001b[39m(\u001b[39mself\u001b[39m\u001b[39m.\u001b[39muuid, \u001b[39m\"\u001b[39m\u001b[39mAdded one block\u001b[39m\u001b[39m\"\u001b[39m)\n",
      "\u001b[0;31mKeyboardInterrupt\u001b[0m: "
     ]
    }
   ],
   "source": [
    "node.work(verbose=False)"
   ]
  },
  {
   "cell_type": "markdown",
   "metadata": {},
   "source": [
    "\n",
    "- 後片付け"
   ]
  },
  {
   "cell_type": "code",
   "execution_count": 12,
   "metadata": {},
   "outputs": [],
   "source": [
    "network.shutdown()"
   ]
  },
  {
   "attachments": {},
   "cell_type": "markdown",
   "metadata": {},
   "source": [
    "# デモ: 分散ブロックチェーンのデモ\n",
    "- multiprocessingでネットワークのデモを行う"
   ]
  },
  {
   "cell_type": "code",
   "execution_count": 13,
   "metadata": {},
   "outputs": [],
   "source": [
    "genesis=Block(time(), (), \"0\")\n",
    "network=Network()"
   ]
  },
  {
   "attachments": {},
   "cell_type": "markdown",
   "metadata": {},
   "source": [
    "- ノードを生成する\n",
    "    - ノードにはデモで分かりやすいように名前を与えてある"
   ]
  },
  {
   "cell_type": "code",
   "execution_count": 14,
   "metadata": {},
   "outputs": [],
   "source": [
    "nodes=['the_leader_node', 'the_blue_sky', 'white_noise', 'yellow_submarine', 'green_planet']\n"
   ]
  },
  {
   "attachments": {},
   "cell_type": "markdown",
   "metadata": {},
   "source": [
    "- nodeのnetworkの状態を定義する\n",
    "- 序列を持つ結合と全結合を選択できる\n",
    "    - リーダーノードは他のノードと結合しているが、その他のノードはリーダーとのみ結合している\n",
    "    - 全結合の場合は全てのノード同士で直接やりとりできる"
   ]
  },
  {
   "attachments": {},
   "cell_type": "markdown",
   "metadata": {},
   "source": [
    "（考察）\n",
    "- 1つのnodeはただ１つの決まった結合を持つ場合、コンフリクトは起こらない\n",
    "- ブロックが作成されるたびにリーダーにブロードキャストしたい"
   ]
  },
  {
   "cell_type": "code",
   "execution_count": 15,
   "metadata": {},
   "outputs": [],
   "source": [
    "ORDERING=True\n",
    "if (ORDERING):\n",
    "    network.neighbours['the_leader_node']=['the_leader_node', 'the_blue_sky', 'white_noise', 'yellow_submarine', 'green_planet']\n",
    "    network.neighbours['the_blue_sky']=['the_leader_node', 'the_blue_sky']\n",
    "    network.neighbours['white_noise']=['the_leader_node', 'white_noise']\n",
    "    network.neighbours['yellow_submarine']=['the_leader_node', 'yellow_submarine']\n",
    "    network.neighbours['green_planet']=['the_leader_node', 'green_planet']\n",
    "else:\n",
    "    for uuid in nodes:\n",
    "        network.neighbours[uuid]=nodes"
   ]
  },
  {
   "cell_type": "markdown",
   "metadata": {},
   "source": [
    "- multiprocess workerを作って起動する"
   ]
  },
  {
   "cell_type": "code",
   "execution_count": 16,
   "metadata": {},
   "outputs": [],
   "source": [
    "def node_work(uuid):\n",
    "    node=Node(network, genesis, uuid)\n",
    "    node.work()"
   ]
  },
  {
   "cell_type": "code",
   "execution_count": 17,
   "metadata": {},
   "outputs": [],
   "source": [
    "workers=[]\n",
    "for uuid in nodes:\n",
    "    worker=mp.Process(target=node_work, args=(uuid,))\n",
    "    workers.append(worker)\n",
    "    worker.start()"
   ]
  },
  {
   "cell_type": "markdown",
   "metadata": {},
   "source": [
    "- peopleを生成する\n",
    "- これも適当に人数を変えて遊ぶと良い"
   ]
  },
  {
   "cell_type": "markdown",
   "metadata": {},
   "source": [
    "- peopleは概念としては今回はあまり試用していない"
   ]
  },
  {
   "cell_type": "code",
   "execution_count": 18,
   "metadata": {},
   "outputs": [],
   "source": [
    "# num_people=2\n",
    "# people=[Wallet(network, random.sample(nodes, random.randint(1, len(nodes)))) for _ in range(num_people)]\n",
    "alice=Wallet(network, ['the_leader_node'])\n",
    "bob=Wallet(network, ['the_blue_sky'])\n",
    "\n",
    "people=[alice, bob]"
   ]
  },
  {
   "cell_type": "markdown",
   "metadata": {},
   "source": [
    "### ブロックチェーンの表示\n",
    "- 各ノードの持つブロックチェーンがどの様になっているのか表示する"
   ]
  },
  {
   "cell_type": "code",
   "execution_count": null,
   "metadata": {},
   "outputs": [
    {
     "name": "stdout",
     "output_type": "stream",
     "text": [
      "(Node: the_leader_node) [a452b]--[24289]--[6a1cb]--[927cc]--[dee79]\n",
      "(Node: the_blue_sky) [a452b]--[24289]--[6a1cb]--[927cc]--[dee79]\n",
      "(Node: white_noise) [a452b]--[24289]--[6a1cb]--[927cc]--[dee79]\n",
      "(Node: yellow_submarin) [a452b]--[24289]--[6a1cb]--[927cc]--[dee79]\n",
      "(Node: green_planet) [a452b]--[24289]--[6a1cb]--[927cc]--[dee79]\n"
     ]
    }
   ],
   "source": [
    "from IPython.display import clear_output\n",
    "import time\n",
    "\n",
    "timeout = time.time() + 60\n",
    "def draw_chains(network):\n",
    "    while True:\n",
    "        if time.time() > timeout:\n",
    "            break\n",
    "        line=\"\"\n",
    "        for k, v in network.chains.items():\n",
    "            line += f\"(Node: {k[:15]}) \"\n",
    "            chain=BlockChain.json_loads(v)\n",
    "            h=list(map(lambda x: x.hash()[:5], chain))\n",
    "            line += \"--\".join(map(lambda x: f\"[{x}]\", h))\n",
    "            line += \"\\n\"\n",
    "        print(line.rstrip())\n",
    "        clear_output(True)\n",
    "        sleep(1.0)\n",
    "\n",
    "worker=mp.Process(target=draw_chains, args=(network,))\n",
    "worker.start()"
   ]
  },
  {
   "cell_type": "markdown",
   "metadata": {},
   "source": [
    "- 取引をして遊ぶ\n",
    "    - ランダムに取引が行われるコードを書いてみる\n",
    "    - 上の表示が変化する!"
   ]
  },
  {
   "cell_type": "code",
   "execution_count": 20,
   "metadata": {},
   "outputs": [
    {
     "name": "stdout",
     "output_type": "stream",
     "text": [
      "(Node: the_leader_node) [a452b]\n",
      "(Node: the_blue_sky) [a452b]\n",
      "(Node: white_noise) [a452b]\n",
      "(Node: yellow_submarin) [a452b]\n",
      "(Node: green_planet) [a452b]\n"
     ]
    }
   ],
   "source": [
    "def generate_transactions():\n",
    "    # for _ in range(random.randint(1,10)):\n",
    "    #     sender, receiver= random.sample(people, 2)\n",
    "    #     # sender.send(receiver.address, random.randint(1, 100))\n",
    "    #     sender.send(receiver.address, 'inquiry')\n",
    "\n",
    "    alice.send([None], 'cancel')\n",
    "    bob.send([None], 'reservation')"
   ]
  },
  {
   "cell_type": "code",
   "execution_count": 21,
   "metadata": {},
   "outputs": [],
   "source": [
    "# generate_transactions()"
   ]
  },
  {
   "cell_type": "markdown",
   "metadata": {},
   "source": [
    "### スマートコントラクトの実装に向けて"
   ]
  },
  {
   "cell_type": "markdown",
   "metadata": {},
   "source": [
    "### メッセージを出力した方が良いかもしれない"
   ]
  },
  {
   "cell_type": "code",
   "execution_count": 22,
   "metadata": {},
   "outputs": [],
   "source": [
    "sc = Smartcontract(network)\n",
    "\n",
    "s_uuid = 'the_leader_node'\n",
    "s = Wallet(network, [s_uuid])\n",
    "b_uuid = 'the_blue_sky'\n",
    "b = Wallet(network, [b_uuid])"
   ]
  },
  {
   "attachments": {},
   "cell_type": "markdown",
   "metadata": {},
   "source": [
    "the_leader_node は離着陸地点を予約しました"
   ]
  },
  {
   "cell_type": "code",
   "execution_count": 23,
   "metadata": {},
   "outputs": [
    {
     "name": "stdout",
     "output_type": "stream",
     "text": [
      "the_leader_node は離着陸地点を予約しました。\n"
     ]
    }
   ],
   "source": [
    "clear_output(True)\n",
    "\n",
    "print(s_uuid + ' は離着陸地点を予約しました。' if sc.make_a_reservation(s) else s_uuid + ' は離着陸地点は予約できませんでした。')"
   ]
  },
  {
   "cell_type": "code",
   "execution_count": 24,
   "metadata": {},
   "outputs": [
    {
     "name": "stdout",
     "output_type": "stream",
     "text": [
      "\n",
      "以下ブロックチェーンの内容（トランザクションの履歴）\n",
      "0 {\"sender_address\": [\"the_leader_node\"], \"receiver_address\": [null], \"value\": \"reservation\", \"sign\": null}\n",
      "\n",
      "以下ブロックチェーンの源蔵のステート\n",
      "{'sender_address': ['the_leader_node'], 'receiver_address': [None], 'reserved': 1}\n"
     ]
    }
   ],
   "source": [
    "clear_output(True)\n",
    "\n",
    "print('\\n以下ブロックチェーンの内容（トランザクションの履歴）')\n",
    "for index, each in enumerate(sc.get_history_of_transactions_by_uuid(s_uuid)):\n",
    "    print(str(index) +' '+ each)\n",
    "\n",
    "print('\\n以下ブロックチェーンの源蔵のステート')\n",
    "print(sc.get_current_state(s_uuid))"
   ]
  },
  {
   "cell_type": "code",
   "execution_count": 25,
   "metadata": {},
   "outputs": [
    {
     "name": "stdout",
     "output_type": "stream",
     "text": [
      "the_leader_node により離着陸地点の予約はキャンセルされました。\n"
     ]
    }
   ],
   "source": [
    "clear_output(True)\n",
    "\n",
    "print(s_uuid + ' により離着陸地点の予約はキャンセルされました。' if sc.cancel_reservation(s) else s_uuid + ' によっては離着陸地点はキャンセルできませんでした。')"
   ]
  },
  {
   "cell_type": "code",
   "execution_count": 26,
   "metadata": {},
   "outputs": [
    {
     "name": "stdout",
     "output_type": "stream",
     "text": [
      "\n",
      "以下ブロックチェーンの内容（トランザクションの履歴）\n",
      "0 {\"sender_address\": [\"the_leader_node\"], \"receiver_address\": [null], \"value\": \"reservation\", \"sign\": null}\n",
      "1 {\"sender_address\": [\"the_leader_node\"], \"receiver_address\": [null], \"value\": \"cancel\", \"sign\": null}\n",
      "\n",
      "以下ブロックチェーンの源蔵のステート\n",
      "{'sender_address': None, 'receiver_address': None, 'reserved': 0}\n"
     ]
    }
   ],
   "source": [
    "clear_output(True)\n",
    "\n",
    "print('\\n以下ブロックチェーンの内容（トランザクションの履歴）')\n",
    "for index, each in enumerate(sc.get_history_of_transactions_by_uuid(s_uuid)):\n",
    "    print(str(index) +' '+ each)\n",
    "\n",
    "print('\\n以下ブロックチェーンの源蔵のステート')\n",
    "print(sc.get_current_state(s_uuid))"
   ]
  },
  {
   "cell_type": "code",
   "execution_count": 27,
   "metadata": {},
   "outputs": [
    {
     "name": "stdout",
     "output_type": "stream",
     "text": [
      "the_blue_sky は離着陸地点を予約しました。\n"
     ]
    }
   ],
   "source": [
    "clear_output(True)\n",
    "\n",
    "print(b_uuid + ' は離着陸地点を予約しました。' if sc.make_a_reservation(b) else b_uuid + ' は離着陸地点は予約できませんでした。')"
   ]
  },
  {
   "cell_type": "code",
   "execution_count": 28,
   "metadata": {},
   "outputs": [
    {
     "name": "stdout",
     "output_type": "stream",
     "text": [
      "\n",
      "以下ブロックチェーンの内容（トランザクションの履歴）\n",
      "0 {\"sender_address\": [\"the_leader_node\"], \"receiver_address\": [null], \"value\": \"reservation\", \"sign\": null}\n",
      "1 {\"sender_address\": [\"the_leader_node\"], \"receiver_address\": [null], \"value\": \"cancel\", \"sign\": null}\n",
      "2 {\"sender_address\": [\"the_blue_sky\"], \"receiver_address\": [null], \"value\": \"reservation\", \"sign\": null}\n",
      "\n",
      "以下ブロックチェーンの源蔵のステート\n",
      "{'sender_address': ['the_blue_sky'], 'receiver_address': [None], 'reserved': 1}\n"
     ]
    }
   ],
   "source": [
    "clear_output(True)\n",
    "\n",
    "print('\\n以下ブロックチェーンの内容（トランザクションの履歴）')\n",
    "for index, each in enumerate(sc.get_history_of_transactions_by_uuid(s_uuid)):\n",
    "    print(str(index) +' '+ each)\n",
    "\n",
    "print('\\n以下ブロックチェーンの源蔵のステート')\n",
    "print(sc.get_current_state(s_uuid))"
   ]
  },
  {
   "cell_type": "code",
   "execution_count": 29,
   "metadata": {},
   "outputs": [
    {
     "name": "stdout",
     "output_type": "stream",
     "text": [
      "the_blue_sky により離着陸地点の予約はキャンセルされました。\n"
     ]
    }
   ],
   "source": [
    "clear_output(True)\n",
    "\n",
    "print(b_uuid + ' により離着陸地点の予約はキャンセルされました。' if sc.cancel_reservation(b) else b_uuid + ' によっては離着陸地点はキャンセルできませんでした。')"
   ]
  },
  {
   "cell_type": "code",
   "execution_count": 31,
   "metadata": {},
   "outputs": [
    {
     "name": "stdout",
     "output_type": "stream",
     "text": [
      "\n",
      "以下ブロックチェーンの内容（トランザクションの履歴）\n",
      "0 {\"sender_address\": [\"the_leader_node\"], \"receiver_address\": [null], \"value\": \"reservation\", \"sign\": null}\n",
      "1 {\"sender_address\": [\"the_leader_node\"], \"receiver_address\": [null], \"value\": \"cancel\", \"sign\": null}\n",
      "2 {\"sender_address\": [\"the_blue_sky\"], \"receiver_address\": [null], \"value\": \"reservation\", \"sign\": null}\n",
      "3 {\"sender_address\": [\"the_blue_sky\"], \"receiver_address\": [null], \"value\": \"cancel\", \"sign\": null}\n",
      "\n",
      "以下ブロックチェーンの源蔵のステート\n",
      "{'sender_address': None, 'receiver_address': None, 'reserved': 0}\n"
     ]
    }
   ],
   "source": [
    "clear_output(True)\n",
    "\n",
    "print('\\n以下ブロックチェーンの内容（トランザクションの履歴）')\n",
    "for index, each in enumerate(sc.get_history_of_transactions_by_uuid(s_uuid)):\n",
    "    print(str(index) +' '+ each)\n",
    "\n",
    "print('\\n以下ブロックチェーンの源蔵のステート')\n",
    "print(sc.get_current_state(s_uuid))"
   ]
  },
  {
   "cell_type": "code",
   "execution_count": 32,
   "metadata": {},
   "outputs": [
    {
     "name": "stdout",
     "output_type": "stream",
     "text": [
      "the_blue_sky によっては離着陸地点はキャンセルできませんでした。\n",
      "\n",
      "以下ブロックチェーンの内容（トランザクションの履歴）\n",
      "0 {\"sender_address\": [\"the_leader_node\"], \"receiver_address\": [null], \"value\": \"reservation\", \"sign\": null}\n",
      "1 {\"sender_address\": [\"the_leader_node\"], \"receiver_address\": [null], \"value\": \"cancel\", \"sign\": null}\n",
      "2 {\"sender_address\": [\"the_blue_sky\"], \"receiver_address\": [null], \"value\": \"reservation\", \"sign\": null}\n",
      "3 {\"sender_address\": [\"the_blue_sky\"], \"receiver_address\": [null], \"value\": \"cancel\", \"sign\": null}\n",
      "\n",
      "以下ブロックチェーンの源蔵のステート\n",
      "{'sender_address': None, 'receiver_address': None, 'reserved': 0}\n"
     ]
    }
   ],
   "source": [
    "clear_output(True)\n",
    "\n",
    "print(b_uuid + ' により離着陸地点の予約はキャンセルされました。' if sc.cancel_reservation(b) else b_uuid + ' によっては離着陸地点はキャンセルできませんでした。')\n",
    "\n",
    "print('\\n以下ブロックチェーンの内容（トランザクションの履歴）')\n",
    "for index, each in enumerate(sc.get_history_of_transactions_by_uuid(s_uuid)):\n",
    "    print(str(index) +' '+ each)\n",
    "\n",
    "print('\\n以下ブロックチェーンの源蔵のステート')\n",
    "print(sc.get_current_state(s_uuid))"
   ]
  },
  {
   "cell_type": "markdown",
   "metadata": {},
   "source": [
    "### 片付け"
   ]
  },
  {
   "cell_type": "code",
   "execution_count": null,
   "metadata": {},
   "outputs": [],
   "source": [
    "worker.terminate()\n",
    "worker.kill()\n",
    "for worker in workers:\n",
    "    worker.terminate()\n",
    "    worker.kill()\n",
    "network.shutdown()"
   ]
  },
  {
   "attachments": {},
   "cell_type": "markdown",
   "metadata": {},
   "source": [
    "# おわりに\n",
    "- 本物のBitCoinとは異なる部分がたくさんあります\n",
    "\n",
    "# 参考文献\n",
    "- [Python で Blockchain の実装をする](https://github.com/tamuhey/python_blockchain)\n",
    "    - たいへん参考にさせていただきました\n",
    "- [Bitcoin white paper](https://bitcoin.org/bitcoin.pdf)\n",
    "    - 専門外でも読みやすいです"
   ]
  },
  {
   "cell_type": "markdown",
   "metadata": {},
   "source": []
  }
 ],
 "metadata": {
  "kernelspec": {
   "display_name": "Python 3 (ipykernel)",
   "language": "python",
   "name": "python3"
  },
  "language_info": {
   "codemirror_mode": {
    "name": "ipython",
    "version": 3
   },
   "file_extension": ".py",
   "mimetype": "text/x-python",
   "name": "python",
   "nbconvert_exporter": "python",
   "pygments_lexer": "ipython3",
   "version": "3.10.6"
  },
  "vscode": {
   "interpreter": {
    "hash": "661e38f5155e862abda6892e8e119fb182f4c7cb3098e1294323e0d6077d0ba4"
   }
  }
 },
 "nbformat": 4,
 "nbformat_minor": 4
}
