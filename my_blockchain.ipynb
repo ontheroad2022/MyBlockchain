{
 "cells": [
  {
   "cell_type": "markdown",
   "metadata": {},
   "source": [
    "# 許可型分散ブロックチェーンの実装\n",
    "\n",
    "許可型分散ブロックチェーンで各ノードが、ドローンの離着陸地点の予約を管理してるポイントだとした時、ドローンの着陸離陸許可がされる様子をデモする"
   ]
  },
  {
   "cell_type": "markdown",
   "metadata": {},
   "source": [
    "### 許可型分散ブロックチェーンのエンティティ\n",
    "\n",
    "<center>\n",
    "  <table border=\"2\">\n",
    "     <tr>\n",
    "      <td>ノード</td>\n",
    "    </tr> \n",
    "    <tr>\n",
    "      <td>ブロック</td>\n",
    "    </tr>\n",
    "    <tr>\n",
    "      <td>ブロックチェーン</td>\n",
    "    </tr>\n",
    "    <tr>\n",
    "      <td>ネットワーク</td>\n",
    "    </tr>     \n",
    "    <tr>\n",
    "      <td>ウォレット</td>\n",
    "    </tr>    \n",
    "    <tr>\n",
    "      <td>トランザクション</td>\n",
    "    </tr>     \n",
    "    <tr>\n",
    "      <td>スマートコントラクト</td>\n",
    "    </tr>           \n",
    " </table>\n",
    "</center>"
   ]
  },
  {
   "cell_type": "markdown",
   "metadata": {},
   "source": [
    "### 許可型分散ブロックチェーンにおいて論理的な単一性を実現します\n",
    "\n",
    "\n",
    "    \n",
    "    分散されたノードに生成される複数のブロックチェーンの間でどのように同期を取るかという問題です\n",
    "\n",
    "    1. 許可型を前提している\n",
    "        - そのため、参加するノードを特定のネットワーク構造に組み込む事が可能となる     \n",
    "    2. 分散ブロックチェーンの中で常に特定の１つのブロックチェーンが最長であるようにする\n",
    "        - ネットワーク形状の指定（１つのリーダーノードを持つ、スター型の分散ネットワーク）\n",
    "        - その結果として、ブロックが生成された際にはリーダーのみにブロードキャストを行う事となる\n",
    "        - それは、リーダーノードが常に他よりも長いチェーンを生成する事を可能にする\n",
    "    3. 複数存在するチェーンを常に最も長いものに同期する\n",
    "        - 結果、リーダーノードが持つチェーンが常に論理的に単一なチェーンとして選択されます\n"
   ]
  },
  {
   "cell_type": "markdown",
   "metadata": {},
   "source": [
    "以上をデモを持って確認する"
   ]
  },
  {
   "cell_type": "code",
   "execution_count": 7,
   "metadata": {},
   "outputs": [],
   "source": [
    "from __future__ import annotations\n",
    "from dataclasses import dataclass"
   ]
  },
  {
   "cell_type": "code",
   "execution_count": 8,
   "metadata": {},
   "outputs": [],
   "source": [
    "from Crypto.Signature import PKCS1_v1_5\n",
    "from Crypto.Hash import SHA\n",
    "from Crypto.PublicKey import RSA\n",
    "import binascii\n",
    "\n",
    "import json\n",
    "import dataclasses as dc\n",
    "from typing import List\n",
    "\n",
    "import multiprocessing as mp\n",
    "import random\n",
    "from itertools import count\n",
    "from time import sleep\n",
    "\n",
    "from typing import Tuple, Sequence\n",
    "import hashlib\n",
    "\n",
    "from time import time"
   ]
  },
  {
   "cell_type": "code",
   "execution_count": 9,
   "metadata": {},
   "outputs": [],
   "source": [
    "import sys\n",
    "sys.path.append('src/')"
   ]
  },
  {
   "cell_type": "code",
   "execution_count": 10,
   "metadata": {},
   "outputs": [],
   "source": [
    "from node import Node\n",
    "from block import Block\n",
    "from blockchain import BlockChain\n",
    "from network import Network\n",
    "from wallet import Wallet\n",
    "from smartcontract import Smartcontract"
   ]
  },
  {
   "cell_type": "markdown",
   "metadata": {},
   "source": [
    "## ノード1つの場合のデモ"
   ]
  },
  {
   "cell_type": "code",
   "execution_count": 11,
   "metadata": {},
   "outputs": [],
   "source": [
    "genesis=Block(time(), (), \"0\")\n",
    "uuid='the_leader_node'\n",
    "network=Network({uuid:[uuid]})\n",
    "node=Node(network, genesis, uuid)"
   ]
  },
  {
   "cell_type": "code",
   "execution_count": 12,
   "metadata": {},
   "outputs": [],
   "source": [
    "# alice=Wallet(network, [uuid])\n",
    "# bob=Wallet(network, [uuid])"
   ]
  },
  {
   "cell_type": "code",
   "execution_count": 13,
   "metadata": {},
   "outputs": [
    {
     "ename": "KeyboardInterrupt",
     "evalue": "",
     "output_type": "error",
     "traceback": [
      "\u001b[0;31m---------------------------------------------------------------------------\u001b[0m",
      "\u001b[0;31mKeyboardInterrupt\u001b[0m                         Traceback (most recent call last)",
      "Cell \u001b[0;32mIn[13], line 1\u001b[0m\n\u001b[0;32m----> 1\u001b[0m node\u001b[39m.\u001b[39;49mwork(verbose\u001b[39m=\u001b[39;49m\u001b[39mFalse\u001b[39;49;00m)\n",
      "File \u001b[0;32m~/MyBlockchain/src/node.py:18\u001b[0m, in \u001b[0;36mNode.work\u001b[0;34m(self, verbose)\u001b[0m\n\u001b[1;32m     16\u001b[0m \u001b[39mwhile\u001b[39;00m \u001b[39mTrue\u001b[39;00m:\n\u001b[1;32m     17\u001b[0m     \u001b[39mif\u001b[39;00m \u001b[39mnot\u001b[39;00m \u001b[39mself\u001b[39m\u001b[39m.\u001b[39mordering():\n\u001b[0;32m---> 18\u001b[0m         sleep(\u001b[39m1.0\u001b[39;49m) \u001b[39m# wait due to no transactions\u001b[39;00m\n\u001b[1;32m     19\u001b[0m     \u001b[39mif\u001b[39;00m \u001b[39mself\u001b[39m\u001b[39m.\u001b[39madd_block():\n\u001b[1;32m     20\u001b[0m         \u001b[39mif\u001b[39;00m verbose: \u001b[39mprint\u001b[39m(\u001b[39mself\u001b[39m\u001b[39m.\u001b[39muuid, \u001b[39m\"\u001b[39m\u001b[39mAdded one block\u001b[39m\u001b[39m\"\u001b[39m)\n",
      "\u001b[0;31mKeyboardInterrupt\u001b[0m: "
     ]
    }
   ],
   "source": [
    "node.work(verbose=False)"
   ]
  },
  {
   "cell_type": "code",
   "execution_count": 14,
   "metadata": {},
   "outputs": [],
   "source": [
    "network.shutdown()"
   ]
  },
  {
   "cell_type": "markdown",
   "metadata": {},
   "source": [
    "# 許可型分散ブロックチェーンのデモ"
   ]
  },
  {
   "cell_type": "code",
   "execution_count": 15,
   "metadata": {},
   "outputs": [],
   "source": [
    "genesis=Block(time(), (), \"0\")\n",
    "network=Network()"
   ]
  },
  {
   "cell_type": "markdown",
   "metadata": {},
   "source": [
    "- ノードを生成する\n",
    "    - ノードにはデモで分かりやすいように名前を与えてある"
   ]
  },
  {
   "cell_type": "code",
   "execution_count": 16,
   "metadata": {},
   "outputs": [],
   "source": [
    "nodes=['the_leader_node', 'the_blue_sky', 'white_noise', 'yellow_submarine', 'green_planet']\n"
   ]
  },
  {
   "cell_type": "markdown",
   "metadata": {},
   "source": [
    "## ネットワークの形状を定義する\n",
    "- ネットワークの形状として、序列を持つ結合の選択する事が私たちの目的遂行のために重要です\n",
    "    - リーダーノードにおけるチェーンは常に全ノードにおける新たなブロックの生成を取り込む\n",
    "        - それによってリーダーノードのチェーンは常に最も長いチェーンの１つである\n",
    "    - 全てのノードが最も長いチェーンに基づいてアップデートされる\n",
    "\n",
    "- 比較のために、以下に全結合の場合のネットワークの形状示します\n",
    "    - リーダーノードは他のノードと結合しているが、その他のノードはリーダーとのみ結合している\n",
    "    - 序列を持つ結合もそれぞれのノードは対等なノードで、現在の実装では結合の仕方が異なるのみです\n",
    "    - 他方で、全結合の場合は全てのノード同士が結合しています\n"
   ]
  },
  {
   "cell_type": "markdown",
   "metadata": {},
   "source": [
    "<table>\n",
    "<tr>\n",
    "    <td>\n",
    "序列を持つ結合\n",
    "<div>\n",
    "<img src=\"network_ordered.png\" width=\"500\"/>\n",
    "</div>\n",
    "    </td>\n",
    "    <td>\n",
    "全結合        \n",
    "<div>\n",
    "<img src=\"network_fully_connected.png\" width=\"500\"/>\n",
    "</div>\n",
    "    </td>\n",
    "  </tr>\n",
    "</table>\n",
    "    "
   ]
  },
  {
   "cell_type": "code",
   "execution_count": 17,
   "metadata": {},
   "outputs": [],
   "source": [
    "ORDERING=True\n",
    "if (ORDERING):\n",
    "    network.neighbours['the_leader_node']=['the_leader_node', 'the_blue_sky', 'white_noise', 'yellow_submarine', 'green_planet']\n",
    "    network.neighbours['the_blue_sky']=['the_leader_node', 'the_blue_sky']\n",
    "    network.neighbours['white_noise']=['the_leader_node', 'white_noise']\n",
    "    network.neighbours['yellow_submarine']=['the_leader_node', 'yellow_submarine']\n",
    "    network.neighbours['green_planet']=['the_leader_node', 'green_planet']\n",
    "else:\n",
    "    for uuid in nodes:\n",
    "        network.neighbours[uuid]=nodes"
   ]
  },
  {
   "cell_type": "markdown",
   "metadata": {},
   "source": [
    "- ノードを起動する"
   ]
  },
  {
   "cell_type": "code",
   "execution_count": 18,
   "metadata": {},
   "outputs": [],
   "source": [
    "def node_work(uuid):\n",
    "    node=Node(network, genesis, uuid)\n",
    "    node.work()"
   ]
  },
  {
   "cell_type": "code",
   "execution_count": 19,
   "metadata": {},
   "outputs": [],
   "source": [
    "workers=[]\n",
    "for uuid in nodes:\n",
    "    worker=mp.Process(target=node_work, args=(uuid,))\n",
    "    workers.append(worker)\n",
    "    worker.start()"
   ]
  },
  {
   "cell_type": "code",
   "execution_count": 20,
   "metadata": {},
   "outputs": [],
   "source": [
    "num_people=5\n",
    "people=[Wallet(network, random.sample(nodes, random.randint(1, len(nodes)))) for _ in range(num_people)]"
   ]
  },
  {
   "cell_type": "markdown",
   "metadata": {},
   "source": [
    "### ブロックチェーンの表示\n",
    "- 各ノード上でブロックチェーンが生成される様子が見て取れる"
   ]
  },
  {
   "cell_type": "code",
   "execution_count": null,
   "metadata": {},
   "outputs": [
    {
     "name": "stdout",
     "output_type": "stream",
     "text": [
      "(Node: the_leader_node) [639bd]\n",
      "(Node: the_blue_sky) [639bd]\n",
      "(Node: white_noise) [639bd]\n",
      "(Node: yellow_submarin) [639bd]\n",
      "(Node: green_planet) [639bd]\n"
     ]
    }
   ],
   "source": [
    "from IPython.display import clear_output\n",
    "import time\n",
    "\n",
    "timeout = time.time() + 60\n",
    "def draw_chains(network):\n",
    "    while True:\n",
    "        if time.time() > timeout:\n",
    "            break\n",
    "        line=\"\"\n",
    "        for k, v in network.chains.items():\n",
    "            line += f\"(Node: {k[:15]}) \"\n",
    "            chain=BlockChain.json_loads(v)\n",
    "            h=list(map(lambda x: x.hash()[:5], chain))\n",
    "            line += \"--\".join(map(lambda x: f\"[{x}]\", h))\n",
    "            line += \"\\n\"\n",
    "        print(line.rstrip())\n",
    "        clear_output(True)\n",
    "        sleep(1.0)\n",
    "\n",
    "worker=mp.Process(target=draw_chains, args=(network,))\n",
    "worker.start()"
   ]
  },
  {
   "cell_type": "code",
   "execution_count": 22,
   "metadata": {},
   "outputs": [],
   "source": [
    "def generate_transactions():\n",
    "    for _ in range(random.randint(1,10)):\n",
    "        sender, receiver= random.sample(people, 2)\n",
    "        sender.send(receiver.address, 'a random transaction')\n",
    "        receiver.send(sender.address, 'another random transaction')"
   ]
  },
  {
   "cell_type": "markdown",
   "metadata": {},
   "source": [
    "ランダムにトランザクションを生成し、上でブロックチェーンが生成されている様子を確認する\n",
    "- ブロックチェーンが生成されていれば、問題なく動作していると思われる\n",
    "- 私たちの許可型分散ブロックチェーンにおいてはリーダーノードが他よりも一歩先んじて長くなる様子が観察される"
   ]
  },
  {
   "cell_type": "code",
   "execution_count": 23,
   "metadata": {},
   "outputs": [],
   "source": [
    "if False:\n",
    "    generate_transactions()"
   ]
  },
  {
   "cell_type": "markdown",
   "metadata": {},
   "source": [
    "### スマートコントラクトを実行する"
   ]
  },
  {
   "cell_type": "markdown",
   "metadata": {},
   "source": [
    "- 以下のシナリオでデモを実行する\n",
    "  1. the_leader_node が離着陸許可を取得する\n",
    "  2. the_leader_node が離着陸許可をキャンセルする\n",
    "  3. the_blue_sky が離着陸許可を取得する\n",
    "  4. the_blue_sky が離着陸許可をキャンセルする \n",
    "- ブロックチェーンにおいて以上のトランザクションの履歴を確認する"
   ]
  },
  {
   "cell_type": "markdown",
   "metadata": {},
   "source": [
    "ウォレットは予約の主体です\n",
    "\n",
    "ウォレットが予約の行為を起こした時にトランザクションのインスタンスを生成します"
   ]
  },
  {
   "cell_type": "code",
   "execution_count": 24,
   "metadata": {},
   "outputs": [],
   "source": [
    "sc = Smartcontract(network)\n",
    "\n",
    "s_uuid = 'the_leader_node'\n",
    "s = Wallet(network, [s_uuid])\n",
    "b_uuid = 'the_blue_sky'\n",
    "b = Wallet(network, [b_uuid])"
   ]
  },
  {
   "cell_type": "markdown",
   "metadata": {},
   "source": [
    "the_leader_node は離着陸地点を予約しました"
   ]
  },
  {
   "cell_type": "code",
   "execution_count": null,
   "metadata": {},
   "outputs": [
    {
     "name": "stdout",
     "output_type": "stream",
     "text": [
      "the_leader_node は離着陸地点を予約しました。\n"
     ]
    }
   ],
   "source": [
    "clear_output(True)\n",
    "\n",
    "print(s_uuid + ' は離着陸地点を予約しました。' if sc.make_a_reservation(s) else s_uuid + ' は離着陸地点は予約できませんでした。')"
   ]
  },
  {
   "cell_type": "code",
   "execution_count": null,
   "metadata": {},
   "outputs": [
    {
     "name": "stdout",
     "output_type": "stream",
     "text": [
      "\n",
      "以下ブロックチェーンの内容（トランザクションの履歴）\n",
      "0 {\"sender_address\": [\"the_leader_node\"], \"receiver_address\": [null], \"value\": \"reservation\", \"sign\": null}\n",
      "\n",
      "以下ブロックチェーンの現在のステート\n",
      "{'sender_address': ['the_leader_node'], 'receiver_address': [None], 'reserved': 1}\n"
     ]
    }
   ],
   "source": [
    "clear_output(True)\n",
    "\n",
    "print('\\n以下ブロックチェーンの内容（トランザクションの履歴）')\n",
    "for index, each in enumerate(sc.get_history_of_transactions_by_uuid(s_uuid)):\n",
    "    print(str(index) +' '+ each)\n",
    "\n",
    "print('\\n以下ブロックチェーンの現在のステート')\n",
    "print(sc.get_current_state(s_uuid))"
   ]
  },
  {
   "cell_type": "code",
   "execution_count": null,
   "metadata": {},
   "outputs": [
    {
     "name": "stdout",
     "output_type": "stream",
     "text": [
      "the_leader_node により離着陸地点の予約はキャンセルされました。\n"
     ]
    }
   ],
   "source": [
    "clear_output(True)\n",
    "\n",
    "print(s_uuid + ' により離着陸地点の予約はキャンセルされました。' if sc.cancel_reservation(s) else s_uuid + ' によっては離着陸地点はキャンセルできませんでした。')"
   ]
  },
  {
   "cell_type": "code",
   "execution_count": null,
   "metadata": {},
   "outputs": [
    {
     "name": "stdout",
     "output_type": "stream",
     "text": [
      "\n",
      "以下ブロックチェーンの内容（トランザクションの履歴）\n",
      "0 {\"sender_address\": [\"the_leader_node\"], \"receiver_address\": [null], \"value\": \"reservation\", \"sign\": null}\n",
      "1 {\"sender_address\": [\"the_leader_node\"], \"receiver_address\": [null], \"value\": \"cancel\", \"sign\": null}\n",
      "\n",
      "以下ブロックチェーンの現在のステート\n",
      "{'sender_address': None, 'receiver_address': None, 'reserved': 0}\n"
     ]
    }
   ],
   "source": [
    "clear_output(True)\n",
    "\n",
    "print('\\n以下ブロックチェーンの内容（トランザクションの履歴）')\n",
    "for index, each in enumerate(sc.get_history_of_transactions_by_uuid(s_uuid)):\n",
    "    print(str(index) +' '+ each)\n",
    "\n",
    "print('\\n以下ブロックチェーンの現在のステート')\n",
    "print(sc.get_current_state(s_uuid))"
   ]
  },
  {
   "cell_type": "code",
   "execution_count": null,
   "metadata": {},
   "outputs": [
    {
     "name": "stdout",
     "output_type": "stream",
     "text": [
      "the_blue_sky は離着陸地点を予約しました。\n"
     ]
    }
   ],
   "source": [
    "clear_output(True)\n",
    "\n",
    "print(b_uuid + ' は離着陸地点を予約しました。' if sc.make_a_reservation(b) else b_uuid + ' は離着陸地点は予約できませんでした。')"
   ]
  },
  {
   "cell_type": "code",
   "execution_count": null,
   "metadata": {},
   "outputs": [
    {
     "name": "stdout",
     "output_type": "stream",
     "text": [
      "\n",
      "以下ブロックチェーンの内容（トランザクションの履歴）\n",
      "0 {\"sender_address\": [\"the_leader_node\"], \"receiver_address\": [null], \"value\": \"reservation\", \"sign\": null}\n",
      "1 {\"sender_address\": [\"the_leader_node\"], \"receiver_address\": [null], \"value\": \"cancel\", \"sign\": null}\n",
      "2 {\"sender_address\": [\"the_blue_sky\"], \"receiver_address\": [null], \"value\": \"reservation\", \"sign\": null}\n",
      "\n",
      "以下ブロックチェーンの現在のステート\n",
      "{'sender_address': ['the_blue_sky'], 'receiver_address': [None], 'reserved': 1}\n"
     ]
    }
   ],
   "source": [
    "clear_output(True)\n",
    "\n",
    "print('\\n以下ブロックチェーンの内容（トランザクションの履歴）')\n",
    "for index, each in enumerate(sc.get_history_of_transactions_by_uuid(s_uuid)):\n",
    "    print(str(index) +' '+ each)\n",
    "\n",
    "print('\\n以下ブロックチェーンの現在のステート')\n",
    "print(sc.get_current_state(s_uuid))"
   ]
  },
  {
   "cell_type": "code",
   "execution_count": null,
   "metadata": {},
   "outputs": [
    {
     "name": "stdout",
     "output_type": "stream",
     "text": [
      "the_blue_sky により離着陸地点の予約はキャンセルされました。\n"
     ]
    }
   ],
   "source": [
    "clear_output(True)\n",
    "\n",
    "print(b_uuid + ' により離着陸地点の予約はキャンセルされました。' if sc.cancel_reservation(b) else b_uuid + ' によっては離着陸地点はキャンセルできませんでした。')"
   ]
  },
  {
   "cell_type": "code",
   "execution_count": null,
   "metadata": {},
   "outputs": [
    {
     "name": "stdout",
     "output_type": "stream",
     "text": [
      "\n",
      "以下ブロックチェーンの内容（トランザクションの履歴）\n",
      "0 {\"sender_address\": [\"the_leader_node\"], \"receiver_address\": [null], \"value\": \"reservation\", \"sign\": null}\n",
      "1 {\"sender_address\": [\"the_leader_node\"], \"receiver_address\": [null], \"value\": \"cancel\", \"sign\": null}\n",
      "2 {\"sender_address\": [\"the_blue_sky\"], \"receiver_address\": [null], \"value\": \"reservation\", \"sign\": null}\n",
      "3 {\"sender_address\": [\"the_blue_sky\"], \"receiver_address\": [null], \"value\": \"cancel\", \"sign\": null}\n",
      "\n",
      "以下ブロックチェーンの現在のステート\n",
      "{'sender_address': None, 'receiver_address': None, 'reserved': 0}\n"
     ]
    }
   ],
   "source": [
    "clear_output(True)\n",
    "\n",
    "print('\\n以下ブロックチェーンの内容（トランザクションの履歴）')\n",
    "for index, each in enumerate(sc.get_history_of_transactions_by_uuid(s_uuid)):\n",
    "    print(str(index) +' '+ each)\n",
    "\n",
    "print('\\n以下ブロックチェーンの現在のステート')\n",
    "print(sc.get_current_state(s_uuid))"
   ]
  },
  {
   "cell_type": "code",
   "execution_count": null,
   "metadata": {},
   "outputs": [
    {
     "name": "stdout",
     "output_type": "stream",
     "text": [
      "the_blue_sky によっては離着陸地点はキャンセルできませんでした。\n",
      "\n",
      "以下ブロックチェーンの内容（トランザクションの履歴）\n",
      "0 {\"sender_address\": [\"the_leader_node\"], \"receiver_address\": [null], \"value\": \"reservation\", \"sign\": null}\n",
      "1 {\"sender_address\": [\"the_leader_node\"], \"receiver_address\": [null], \"value\": \"cancel\", \"sign\": null}\n",
      "2 {\"sender_address\": [\"the_blue_sky\"], \"receiver_address\": [null], \"value\": \"reservation\", \"sign\": null}\n",
      "3 {\"sender_address\": [\"the_blue_sky\"], \"receiver_address\": [null], \"value\": \"cancel\", \"sign\": null}\n",
      "\n",
      "以下ブロックチェーンの現在のステート\n",
      "{'sender_address': None, 'receiver_address': None, 'reserved': 0}\n"
     ]
    }
   ],
   "source": [
    "clear_output(True)\n",
    "\n",
    "print(b_uuid + ' により離着陸地点の予約はキャンセルされました。' if sc.cancel_reservation(b) else b_uuid + ' によっては離着陸地点はキャンセルできませんでした。')\n",
    "\n",
    "print('\\n以下ブロックチェーンの内容（トランザクションの履歴）')\n",
    "for index, each in enumerate(sc.get_history_of_transactions_by_uuid(s_uuid)):\n",
    "    print(str(index) +' '+ each)\n",
    "\n",
    "print('\\n以下ブロックチェーンの現在のステート')\n",
    "print(sc.get_current_state(s_uuid))"
   ]
  },
  {
   "cell_type": "markdown",
   "metadata": {},
   "source": [
    "### 履歴の確認\n",
    "- ブロックチェーンにおいて予測したとおりのトランザクションの履歴が確認できました"
   ]
  },
  {
   "cell_type": "code",
   "execution_count": null,
   "metadata": {},
   "outputs": [],
   "source": [
    "worker.terminate()\n",
    "worker.kill()\n",
    "for worker in workers:\n",
    "    worker.terminate()\n",
    "    worker.kill()\n",
    "network.shutdown()"
   ]
  },
  {
   "cell_type": "markdown",
   "metadata": {},
   "source": [
    "参考資料は記載する必要がある"
   ]
  },
  {
   "cell_type": "markdown",
   "metadata": {},
   "source": [
    "以上になります"
   ]
  }
 ],
 "metadata": {
  "kernelspec": {
   "display_name": "Python 3 (ipykernel)",
   "language": "python",
   "name": "python3"
  },
  "language_info": {
   "codemirror_mode": {
    "name": "ipython",
    "version": 3
   },
   "file_extension": ".py",
   "mimetype": "text/x-python",
   "name": "python",
   "nbconvert_exporter": "python",
   "pygments_lexer": "ipython3",
   "version": "3.10.6"
  },
  "vscode": {
   "interpreter": {
    "hash": "e2dd4157e354919d46b8039d3e1101230ca44fa64fd8e119495622ca580eedec"
   }
  }
 },
 "nbformat": 4,
 "nbformat_minor": 4
}
