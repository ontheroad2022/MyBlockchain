{
 "cells": [
  {
   "cell_type": "markdown",
   "metadata": {},
   "source": [
    "# 分散ブロックチェーンの実装\n",
    "\n",
    "分散ブロックチェーンで各ノードが、ドローンの離着陸地点の予約を管理してるポイントだとした時、ドローンの着陸離陸許可がされる様子をデモする"
   ]
  },
  {
   "cell_type": "markdown",
   "metadata": {},
   "source": [
    "許可型分散ブロックチェーンにおいて論理的な単一性を実現します\n",
    "\n",
    "- 私たちの論理的に単一な許可型分散ブロックチェーンにおいては発生したトランザクションは時系列毎に加えられます\n",
    "    1. 許可型を前提している\n",
    "        - そのため、参加するノードを特定のネットワーク構造に組み込む事ができる\n",
    "    2. 分散ブロックチェーンの中で常に特定の１つのブロックチェーンが最長であるようにする\n",
    "        - ネットワーク形状の指定（１つのリーダーノードを持つ、スター型の分散ネットワーク）\n",
    "        - その結果として、ブロックが生成された際にはリーダーのみにブロードキャストを行う事となる\n",
    "        - それは、リーダーノードが常に他よりも長いチェーンを生成する事を可能にする\n",
    "    3. 複数存在するチェーンを常に最も長いものに同期する\n",
    "        - 結果、リーダーノードが持つチェーンが常に論理的に単一なチェーンとして選択されます\n"
   ]
  },
  {
   "cell_type": "markdown",
   "metadata": {},
   "source": [
    "以上をデモを持って確認する"
   ]
  },
  {
   "cell_type": "code",
   "execution_count": 1,
   "metadata": {},
   "outputs": [],
   "source": [
    "from __future__ import annotations\n",
    "from dataclasses import dataclass"
   ]
  },
  {
   "cell_type": "code",
   "execution_count": 2,
   "metadata": {},
   "outputs": [],
   "source": [
    "from Crypto.Signature import PKCS1_v1_5\n",
    "from Crypto.Hash import SHA\n",
    "from Crypto.PublicKey import RSA\n",
    "import binascii\n",
    "\n",
    "import json\n",
    "import dataclasses as dc\n",
    "from typing import List\n",
    "\n",
    "import multiprocessing as mp\n",
    "import random\n",
    "from itertools import count\n",
    "from time import sleep\n",
    "\n",
    "from typing import Tuple, Sequence\n",
    "import hashlib\n",
    "\n",
    "from time import time"
   ]
  },
  {
   "cell_type": "code",
   "execution_count": 3,
   "metadata": {},
   "outputs": [],
   "source": [
    "import sys\n",
    "sys.path.append('src/')"
   ]
  },
  {
   "cell_type": "code",
   "execution_count": 4,
   "metadata": {},
   "outputs": [],
   "source": [
    "from block import Block\n",
    "from blockchain import BlockChain\n",
    "from network import Network\n",
    "from wallet import Wallet\n",
    "from smartcontract import Smartcontract"
   ]
  },
  {
   "cell_type": "markdown",
   "metadata": {},
   "source": [
    "## ノード1つの場合のデモ"
   ]
  },
  {
   "cell_type": "code",
   "execution_count": 9,
   "metadata": {},
   "outputs": [],
   "source": [
    "genesis=Block(time(), (), \"0\")\n",
    "uuid='the_leader_node'\n",
    "network=Network({uuid:[uuid]})\n",
    "node=Node(network, genesis, uuid)"
   ]
  },
  {
   "cell_type": "code",
   "execution_count": 10,
   "metadata": {},
   "outputs": [],
   "source": [
    "alice=Wallet(network, [uuid])\n",
    "bob=Wallet(network, [uuid])"
   ]
  },
  {
   "cell_type": "code",
   "execution_count": 11,
   "metadata": {},
   "outputs": [
    {
     "ename": "KeyboardInterrupt",
     "evalue": "",
     "output_type": "error",
     "traceback": [
      "\u001b[0;31m---------------------------------------------------------------------------\u001b[0m",
      "\u001b[0;31mKeyboardInterrupt\u001b[0m                         Traceback (most recent call last)",
      "Cell \u001b[0;32mIn[11], line 1\u001b[0m\n\u001b[0;32m----> 1\u001b[0m node\u001b[39m.\u001b[39;49mwork(verbose\u001b[39m=\u001b[39;49m\u001b[39mFalse\u001b[39;49;00m)\n",
      "File \u001b[0;32m~/MyBlockchain/src/node.py:18\u001b[0m, in \u001b[0;36mNode.work\u001b[0;34m(self, verbose)\u001b[0m\n\u001b[1;32m     16\u001b[0m \u001b[39mwhile\u001b[39;00m \u001b[39mTrue\u001b[39;00m:\n\u001b[1;32m     17\u001b[0m     \u001b[39mif\u001b[39;00m \u001b[39mnot\u001b[39;00m \u001b[39mself\u001b[39m\u001b[39m.\u001b[39mordering():\n\u001b[0;32m---> 18\u001b[0m         sleep(\u001b[39m1.0\u001b[39;49m) \u001b[39m# wait due to no transactions\u001b[39;00m\n\u001b[1;32m     19\u001b[0m     \u001b[39mif\u001b[39;00m \u001b[39mself\u001b[39m\u001b[39m.\u001b[39madd_block():\n\u001b[1;32m     20\u001b[0m         \u001b[39mif\u001b[39;00m verbose: \u001b[39mprint\u001b[39m(\u001b[39mself\u001b[39m\u001b[39m.\u001b[39muuid, \u001b[39m\"\u001b[39m\u001b[39mAdded one block\u001b[39m\u001b[39m\"\u001b[39m)\n",
      "\u001b[0;31mKeyboardInterrupt\u001b[0m: "
     ]
    }
   ],
   "source": [
    "node.work(verbose=False)"
   ]
  },
  {
   "cell_type": "code",
   "execution_count": 12,
   "metadata": {},
   "outputs": [],
   "source": [
    "network.shutdown()"
   ]
  },
  {
   "cell_type": "markdown",
   "metadata": {},
   "source": [
    "# デモ: 分散ブロックチェーンのデモ"
   ]
  },
  {
   "cell_type": "code",
   "execution_count": 13,
   "metadata": {},
   "outputs": [],
   "source": [
    "genesis=Block(time(), (), \"0\")\n",
    "network=Network()"
   ]
  },
  {
   "cell_type": "markdown",
   "metadata": {},
   "source": [
    "- ノードを生成する\n",
    "    - ノードにはデモで分かりやすいように名前を与えてある"
   ]
  },
  {
   "cell_type": "code",
   "execution_count": 14,
   "metadata": {},
   "outputs": [],
   "source": [
    "nodes=['the_leader_node', 'the_blue_sky', 'white_noise', 'yellow_submarine', 'green_planet']\n"
   ]
  },
  {
   "cell_type": "markdown",
   "metadata": {},
   "source": [
    "- nodeのnetworkの状態を定義する\n",
    "- 序列を持つ結合と全結合を選択できる\n",
    "    - リーダーノードは他のノードと結合しているが、その他のノードはリーダーとのみ結合している\n",
    "    - 全結合の場合は全てのノード同士が結合している"
   ]
  },
  {
   "cell_type": "markdown",
   "metadata": {},
   "source": [
    "（考察）\n",
    "- 1つのnodeはただ１つの決まった結合を持つ場合、コンフリクトは起こらない\n",
    "- ブロックが作成されるたびにリーダーにブロードキャストしたい"
   ]
  },
  {
   "cell_type": "code",
   "execution_count": 15,
   "metadata": {},
   "outputs": [],
   "source": [
    "ORDERING=True\n",
    "if (ORDERING):\n",
    "    network.neighbours['the_leader_node']=['the_leader_node', 'the_blue_sky', 'white_noise', 'yellow_submarine', 'green_planet']\n",
    "    network.neighbours['the_blue_sky']=['the_leader_node', 'the_blue_sky']\n",
    "    network.neighbours['white_noise']=['the_leader_node', 'white_noise']\n",
    "    network.neighbours['yellow_submarine']=['the_leader_node', 'yellow_submarine']\n",
    "    network.neighbours['green_planet']=['the_leader_node', 'green_planet']\n",
    "else:\n",
    "    for uuid in nodes:\n",
    "        network.neighbours[uuid]=nodes"
   ]
  },
  {
   "cell_type": "markdown",
   "metadata": {},
   "source": [
    "- ノードを起動する"
   ]
  },
  {
   "cell_type": "code",
   "execution_count": 16,
   "metadata": {},
   "outputs": [],
   "source": [
    "def node_work(uuid):\n",
    "    node=Node(network, genesis, uuid)\n",
    "    node.work()"
   ]
  },
  {
   "cell_type": "code",
   "execution_count": 17,
   "metadata": {},
   "outputs": [],
   "source": [
    "workers=[]\n",
    "for uuid in nodes:\n",
    "    worker=mp.Process(target=node_work, args=(uuid,))\n",
    "    workers.append(worker)\n",
    "    worker.start()"
   ]
  },
  {
   "cell_type": "code",
   "execution_count": 18,
   "metadata": {},
   "outputs": [],
   "source": [
    "# num_people=2\n",
    "# people=[Wallet(network, random.sample(nodes, random.randint(1, len(nodes)))) for _ in range(num_people)]\n",
    "alice=Wallet(network, ['the_leader_node'])\n",
    "bob=Wallet(network, ['the_blue_sky'])\n",
    "\n",
    "people=[alice, bob]"
   ]
  },
  {
   "cell_type": "markdown",
   "metadata": {},
   "source": [
    "### ブロックチェーンの表示\n",
    "- 各ノードの持つブロックチェーンがどの様になっているのか表示する"
   ]
  },
  {
   "cell_type": "code",
   "execution_count": null,
   "metadata": {},
   "outputs": [
    {
     "name": "stdout",
     "output_type": "stream",
     "text": [
      "(Node: the_leader_node) [a452b]--[24289]--[6a1cb]--[927cc]--[dee79]\n",
      "(Node: the_blue_sky) [a452b]--[24289]--[6a1cb]--[927cc]--[dee79]\n",
      "(Node: white_noise) [a452b]--[24289]--[6a1cb]--[927cc]--[dee79]\n",
      "(Node: yellow_submarin) [a452b]--[24289]--[6a1cb]--[927cc]--[dee79]\n",
      "(Node: green_planet) [a452b]--[24289]--[6a1cb]--[927cc]--[dee79]\n"
     ]
    }
   ],
   "source": [
    "from IPython.display import clear_output\n",
    "import time\n",
    "\n",
    "timeout = time.time() + 60\n",
    "def draw_chains(network):\n",
    "    while True:\n",
    "        if time.time() > timeout:\n",
    "            break\n",
    "        line=\"\"\n",
    "        for k, v in network.chains.items():\n",
    "            line += f\"(Node: {k[:15]}) \"\n",
    "            chain=BlockChain.json_loads(v)\n",
    "            h=list(map(lambda x: x.hash()[:5], chain))\n",
    "            line += \"--\".join(map(lambda x: f\"[{x}]\", h))\n",
    "            line += \"\\n\"\n",
    "        print(line.rstrip())\n",
    "        clear_output(True)\n",
    "        sleep(1.0)\n",
    "\n",
    "worker=mp.Process(target=draw_chains, args=(network,))\n",
    "worker.start()"
   ]
  },
  {
   "cell_type": "code",
   "execution_count": 20,
   "metadata": {},
   "outputs": [
    {
     "name": "stdout",
     "output_type": "stream",
     "text": [
      "(Node: the_leader_node) [a452b]\n",
      "(Node: the_blue_sky) [a452b]\n",
      "(Node: white_noise) [a452b]\n",
      "(Node: yellow_submarin) [a452b]\n",
      "(Node: green_planet) [a452b]\n"
     ]
    }
   ],
   "source": [
    "def generate_transactions():\n",
    "    # for _ in range(random.randint(1,10)):\n",
    "    #     sender, receiver= random.sample(people, 2)\n",
    "    #     # sender.send(receiver.address, random.randint(1, 100))\n",
    "    #     sender.send(receiver.address, 'inquiry')\n",
    "\n",
    "    alice.send([None], 'cancel')\n",
    "    bob.send([None], 'reservation')"
   ]
  },
  {
   "cell_type": "code",
   "execution_count": 21,
   "metadata": {},
   "outputs": [],
   "source": [
    "# generate_transactions()"
   ]
  },
  {
   "cell_type": "markdown",
   "metadata": {},
   "source": [
    "### スマートコントラクトの実装に向けて"
   ]
  },
  {
   "cell_type": "markdown",
   "metadata": {},
   "source": [
    "- 以下のシナリオでデモを実行する\n",
    "\n",
    "        1. the_leader_nodeが離着陸許可を取得する\n",
    "        2. the_leader_nodeが離着陸許可をキャンセルする\n",
    "        3. the_blue_skyが離着陸許可を取得する\n",
    "        4. the_blue_skyが離着陸許可をキャンセルする \n",
    "\n",
    "- ブロックチェーンにおいて以上のトランザクションの履歴を確認する"
   ]
  },
  {
   "cell_type": "code",
   "execution_count": 22,
   "metadata": {},
   "outputs": [],
   "source": [
    "sc = Smartcontract(network)\n",
    "\n",
    "s_uuid = 'the_leader_node'\n",
    "s = Wallet(network, [s_uuid])\n",
    "b_uuid = 'the_blue_sky'\n",
    "b = Wallet(network, [b_uuid])"
   ]
  },
  {
   "cell_type": "markdown",
   "metadata": {},
   "source": [
    "the_leader_node は離着陸地点を予約しました"
   ]
  },
  {
   "cell_type": "code",
   "execution_count": 23,
   "metadata": {},
   "outputs": [
    {
     "name": "stdout",
     "output_type": "stream",
     "text": [
      "the_leader_node は離着陸地点を予約しました。\n"
     ]
    }
   ],
   "source": [
    "clear_output(True)\n",
    "\n",
    "print(s_uuid + ' は離着陸地点を予約しました。' if sc.make_a_reservation(s) else s_uuid + ' は離着陸地点は予約できませんでした。')"
   ]
  },
  {
   "cell_type": "code",
   "execution_count": 24,
   "metadata": {},
   "outputs": [
    {
     "name": "stdout",
     "output_type": "stream",
     "text": [
      "\n",
      "以下ブロックチェーンの内容（トランザクションの履歴）\n",
      "0 {\"sender_address\": [\"the_leader_node\"], \"receiver_address\": [null], \"value\": \"reservation\", \"sign\": null}\n",
      "\n",
      "以下ブロックチェーンの源蔵のステート\n",
      "{'sender_address': ['the_leader_node'], 'receiver_address': [None], 'reserved': 1}\n"
     ]
    }
   ],
   "source": [
    "clear_output(True)\n",
    "\n",
    "print('\\n以下ブロックチェーンの内容（トランザクションの履歴）')\n",
    "for index, each in enumerate(sc.get_history_of_transactions_by_uuid(s_uuid)):\n",
    "    print(str(index) +' '+ each)\n",
    "\n",
    "print('\\n以下ブロックチェーンの現在のステート')\n",
    "print(sc.get_current_state(s_uuid))"
   ]
  },
  {
   "cell_type": "code",
   "execution_count": 25,
   "metadata": {},
   "outputs": [
    {
     "name": "stdout",
     "output_type": "stream",
     "text": [
      "the_leader_node により離着陸地点の予約はキャンセルされました。\n"
     ]
    }
   ],
   "source": [
    "clear_output(True)\n",
    "\n",
    "print(s_uuid + ' により離着陸地点の予約はキャンセルされました。' if sc.cancel_reservation(s) else s_uuid + ' によっては離着陸地点はキャンセルできませんでした。')"
   ]
  },
  {
   "cell_type": "code",
   "execution_count": 26,
   "metadata": {},
   "outputs": [
    {
     "name": "stdout",
     "output_type": "stream",
     "text": [
      "\n",
      "以下ブロックチェーンの内容（トランザクションの履歴）\n",
      "0 {\"sender_address\": [\"the_leader_node\"], \"receiver_address\": [null], \"value\": \"reservation\", \"sign\": null}\n",
      "1 {\"sender_address\": [\"the_leader_node\"], \"receiver_address\": [null], \"value\": \"cancel\", \"sign\": null}\n",
      "\n",
      "以下ブロックチェーンの源蔵のステート\n",
      "{'sender_address': None, 'receiver_address': None, 'reserved': 0}\n"
     ]
    }
   ],
   "source": [
    "clear_output(True)\n",
    "\n",
    "print('\\n以下ブロックチェーンの内容（トランザクションの履歴）')\n",
    "for index, each in enumerate(sc.get_history_of_transactions_by_uuid(s_uuid)):\n",
    "    print(str(index) +' '+ each)\n",
    "\n",
    "print('\\n以下ブロックチェーンの現在のステート')\n",
    "print(sc.get_current_state(s_uuid))"
   ]
  },
  {
   "cell_type": "code",
   "execution_count": 27,
   "metadata": {},
   "outputs": [
    {
     "name": "stdout",
     "output_type": "stream",
     "text": [
      "the_blue_sky は離着陸地点を予約しました。\n"
     ]
    }
   ],
   "source": [
    "clear_output(True)\n",
    "\n",
    "print(b_uuid + ' は離着陸地点を予約しました。' if sc.make_a_reservation(b) else b_uuid + ' は離着陸地点は予約できませんでした。')"
   ]
  },
  {
   "cell_type": "code",
   "execution_count": 28,
   "metadata": {},
   "outputs": [
    {
     "name": "stdout",
     "output_type": "stream",
     "text": [
      "\n",
      "以下ブロックチェーンの内容（トランザクションの履歴）\n",
      "0 {\"sender_address\": [\"the_leader_node\"], \"receiver_address\": [null], \"value\": \"reservation\", \"sign\": null}\n",
      "1 {\"sender_address\": [\"the_leader_node\"], \"receiver_address\": [null], \"value\": \"cancel\", \"sign\": null}\n",
      "2 {\"sender_address\": [\"the_blue_sky\"], \"receiver_address\": [null], \"value\": \"reservation\", \"sign\": null}\n",
      "\n",
      "以下ブロックチェーンの源蔵のステート\n",
      "{'sender_address': ['the_blue_sky'], 'receiver_address': [None], 'reserved': 1}\n"
     ]
    }
   ],
   "source": [
    "clear_output(True)\n",
    "\n",
    "print('\\n以下ブロックチェーンの内容（トランザクションの履歴）')\n",
    "for index, each in enumerate(sc.get_history_of_transactions_by_uuid(s_uuid)):\n",
    "    print(str(index) +' '+ each)\n",
    "\n",
    "print('\\n以下ブロックチェーンの現在のステート')\n",
    "print(sc.get_current_state(s_uuid))"
   ]
  },
  {
   "cell_type": "code",
   "execution_count": 29,
   "metadata": {},
   "outputs": [
    {
     "name": "stdout",
     "output_type": "stream",
     "text": [
      "the_blue_sky により離着陸地点の予約はキャンセルされました。\n"
     ]
    }
   ],
   "source": [
    "clear_output(True)\n",
    "\n",
    "print(b_uuid + ' により離着陸地点の予約はキャンセルされました。' if sc.cancel_reservation(b) else b_uuid + ' によっては離着陸地点はキャンセルできませんでした。')"
   ]
  },
  {
   "cell_type": "code",
   "execution_count": 31,
   "metadata": {},
   "outputs": [
    {
     "name": "stdout",
     "output_type": "stream",
     "text": [
      "\n",
      "以下ブロックチェーンの内容（トランザクションの履歴）\n",
      "0 {\"sender_address\": [\"the_leader_node\"], \"receiver_address\": [null], \"value\": \"reservation\", \"sign\": null}\n",
      "1 {\"sender_address\": [\"the_leader_node\"], \"receiver_address\": [null], \"value\": \"cancel\", \"sign\": null}\n",
      "2 {\"sender_address\": [\"the_blue_sky\"], \"receiver_address\": [null], \"value\": \"reservation\", \"sign\": null}\n",
      "3 {\"sender_address\": [\"the_blue_sky\"], \"receiver_address\": [null], \"value\": \"cancel\", \"sign\": null}\n",
      "\n",
      "以下ブロックチェーンの源蔵のステート\n",
      "{'sender_address': None, 'receiver_address': None, 'reserved': 0}\n"
     ]
    }
   ],
   "source": [
    "clear_output(True)\n",
    "\n",
    "print('\\n以下ブロックチェーンの内容（トランザクションの履歴）')\n",
    "for index, each in enumerate(sc.get_history_of_transactions_by_uuid(s_uuid)):\n",
    "    print(str(index) +' '+ each)\n",
    "\n",
    "print('\\n以下ブロックチェーンの現在のステート')\n",
    "print(sc.get_current_state(s_uuid))"
   ]
  },
  {
   "cell_type": "code",
   "execution_count": 32,
   "metadata": {},
   "outputs": [
    {
     "name": "stdout",
     "output_type": "stream",
     "text": [
      "the_blue_sky によっては離着陸地点はキャンセルできませんでした。\n",
      "\n",
      "以下ブロックチェーンの内容（トランザクションの履歴）\n",
      "0 {\"sender_address\": [\"the_leader_node\"], \"receiver_address\": [null], \"value\": \"reservation\", \"sign\": null}\n",
      "1 {\"sender_address\": [\"the_leader_node\"], \"receiver_address\": [null], \"value\": \"cancel\", \"sign\": null}\n",
      "2 {\"sender_address\": [\"the_blue_sky\"], \"receiver_address\": [null], \"value\": \"reservation\", \"sign\": null}\n",
      "3 {\"sender_address\": [\"the_blue_sky\"], \"receiver_address\": [null], \"value\": \"cancel\", \"sign\": null}\n",
      "\n",
      "以下ブロックチェーンの源蔵のステート\n",
      "{'sender_address': None, 'receiver_address': None, 'reserved': 0}\n"
     ]
    }
   ],
   "source": [
    "clear_output(True)\n",
    "\n",
    "print(b_uuid + ' により離着陸地点の予約はキャンセルされました。' if sc.cancel_reservation(b) else b_uuid + ' によっては離着陸地点はキャンセルできませんでした。')\n",
    "\n",
    "print('\\n以下ブロックチェーンの内容（トランザクションの履歴）')\n",
    "for index, each in enumerate(sc.get_history_of_transactions_by_uuid(s_uuid)):\n",
    "    print(str(index) +' '+ each)\n",
    "\n",
    "print('\\n以下ブロックチェーンの現在のステート')\n",
    "print(sc.get_current_state(s_uuid))"
   ]
  },
  {
   "cell_type": "code",
   "execution_count": null,
   "metadata": {},
   "outputs": [],
   "source": [
    "worker.terminate()\n",
    "worker.kill()\n",
    "for worker in workers:\n",
    "    worker.terminate()\n",
    "    worker.kill()\n",
    "network.shutdown()"
   ]
  },
  {
   "cell_type": "markdown",
   "metadata": {},
   "source": [
    "以上になります"
   ]
  }
 ],
 "metadata": {
  "kernelspec": {
   "display_name": "Python 3 (ipykernel)",
   "language": "python",
   "name": "python3"
  },
  "language_info": {
   "codemirror_mode": {
    "name": "ipython",
    "version": 3
   },
   "file_extension": ".py",
   "mimetype": "text/x-python",
   "name": "python",
   "nbconvert_exporter": "python",
   "pygments_lexer": "ipython3",
   "version": "3.9.7"
  },
  "vscode": {
   "interpreter": {
    "hash": "e2dd4157e354919d46b8039d3e1101230ca44fa64fd8e119495622ca580eedec"
   }
  }
 },
 "nbformat": 4,
 "nbformat_minor": 4
}
