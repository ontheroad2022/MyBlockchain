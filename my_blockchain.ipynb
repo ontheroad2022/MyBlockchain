{
 "cells": [
  {
   "attachments": {},
   "cell_type": "markdown",
   "metadata": {},
   "source": [
    "# 分散ブロックチェーンの実装\n",
    "\n",
    "- 目標は分散ブロックチェーンで各ノードが、ドローンの離着陸地点の予約を管理してるポイントだとして、ドローンの着陸離陸許可がされるさまをつくる事\n",
    "\n",
    "- [Bitcoin論文](https://bitcoin.org/bitcoin.pdf)をもとにblockchainの実装をする\n",
    "    - 天下り的にならないよう，徐々にシステムをパワーアップさせていく方針で作る\n",
    "    - 目標はシンプルなコンセンサスアルゴリズムの実装まで行い，ノード同士が競ってマイニングする様子を眺めること\n",
    "    - 完成形はこんな感じ\n",
    "    \n",
    "    <img src=\"./demo.gif\" width=50%>"
   ]
  },
  {
   "cell_type": "markdown",
   "metadata": {},
   "source": [
    "# 信用のある第三者を介する取引\n",
    "- まずは第三者を介した取引をシミュレーションしてみる\n",
    "- 第三者は取引の公正さのすべてを請け負う"
   ]
  },
  {
   "cell_type": "markdown",
   "metadata": {},
   "source": [
    "## 取引はどのように行うか? - Transactionの実装\n",
    "- 取引記録を発行することで，取引を行う\n",
    "    - Python3.7から実装された[dataclasses](https://docs.python.org/ja/3/library/dataclasses.html#)を使ってみる"
   ]
  },
  {
   "cell_type": "code",
   "execution_count": 1,
   "metadata": {},
   "outputs": [],
   "source": [
    "from __future__ import annotations\n",
    "from dataclasses import dataclass"
   ]
  },
  {
   "cell_type": "code",
   "execution_count": 2,
   "metadata": {},
   "outputs": [],
   "source": [
    "from Crypto.Signature import PKCS1_v1_5\n",
    "from Crypto.Hash import SHA\n",
    "from Crypto.PublicKey import RSA\n",
    "import binascii"
   ]
  },
  {
   "cell_type": "code",
   "execution_count": 3,
   "metadata": {},
   "outputs": [],
   "source": [
    "import sys\n",
    "sys.path.append('src/')"
   ]
  },
  {
   "cell_type": "markdown",
   "metadata": {},
   "source": [
    "- 個人の識別を`address`で行う\n",
    "- 取引額を`value`とする"
   ]
  },
  {
   "cell_type": "code",
   "execution_count": 4,
   "metadata": {},
   "outputs": [],
   "source": [
    "@dataclass\n",
    "class Transaction:\n",
    "    sender_address: int\n",
    "    receiver_address: int\n",
    "    value: float "
   ]
  },
  {
   "cell_type": "markdown",
   "metadata": {},
   "source": [
    "- senderはTransactionを発行して取引を行う"
   ]
  },
  {
   "cell_type": "markdown",
   "metadata": {},
   "source": [
    "- Aliceがtransactionを発行してBankに登録することで，取引が成立する"
   ]
  },
  {
   "attachments": {},
   "cell_type": "markdown",
   "metadata": {},
   "source": [
    "- the_leader_nodeがトランザクションを発行して…等、解釈の変更が必要 "
   ]
  },
  {
   "cell_type": "markdown",
   "metadata": {},
   "source": [
    "- ここで例えば，第三者の信頼度がちょっと落ちたとする\n",
    "    - 取引内容の改ざんはどのように防げばよいだろうか?"
   ]
  },
  {
   "cell_type": "markdown",
   "metadata": {},
   "source": [
    "# 電子署名を用いたtransactionの発行\n",
    "- senderはtransactionに電子署名を行う\n",
    "    - 今回はRSAを用いることにする\n",
    "        - BitCoinは[ECDSA](https://en.bitcoin.it/wiki/Transaction#Input)を用いている\n",
    "    - これによってtransactionの改ざんを検知することができる\n",
    "- 電子署名の公開鍵はどのように扱う?\n",
    "    - 公開鍵をWalletのaddressとする!"
   ]
  },
  {
   "cell_type": "markdown",
   "metadata": {},
   "source": [
    "## Transactionの改良 - 電子署名フィールドの追加\n",
    "- 電子署名できるようにする\n",
    "    - `sign`を追加\n",
    "    - 署名の際，transactionをstrで表すための`str_data` methodも追加\n",
    "- ついでにデータをjson stringに変換するmethodを追加する\n",
    "    - これは後々データのやり取りを簡単にするため"
   ]
  },
  {
   "cell_type": "code",
   "execution_count": 5,
   "metadata": {},
   "outputs": [],
   "source": [
    "import json\n",
    "import dataclasses as dc"
   ]
  },
  {
   "cell_type": "code",
   "execution_count": 6,
   "metadata": {},
   "outputs": [],
   "source": [
    "@dataclass\n",
    "class Transaction:\n",
    "    sender_address: str\n",
    "    receiver_address: str\n",
    "    value: float\n",
    "    sign: str = None\n",
    "        \n",
    "    def str_data(self) -> str:\n",
    "        # return the str of data without `sign`\n",
    "        d=dc.asdict(self)\n",
    "        del d[\"sign\"]\n",
    "        return json.dumps(d)\n",
    "    \n",
    "    def json_dumps(self) -> str:\n",
    "        return json.dumps(dc.asdict(self))\n",
    "    @classmethod\n",
    "    def json_loads(cls, string) -> Transaction:\n",
    "        return cls(**json.loads(string))"
   ]
  },
  {
   "cell_type": "markdown",
   "metadata": {},
   "source": [
    "## Walletの改良 - 電子署名機能の追加\n",
    "- RSAによる電子署名機能を実装する\n",
    "    - pycryptoを用いる\n",
    "        - 使い方はこれを参照 ([python \\- Signing and verifying data using pycrypto \\(RSA\\) \\- Stack Overflow](https://stackoverflow.com/questions/4232389/signing-and-verifying-data-using-pycrypto-rsa))\n",
    "- 引き続きWalletはaddressを1つのみ持つことにする\n",
    "    - 例えばBitCoinでは匿名性の向上のため，一つのWalletは複数のキーペアを持つことができる ([参考](https://en.bitcoin.it/wiki/Transaction))"
   ]
  },
  {
   "cell_type": "code",
   "execution_count": 7,
   "metadata": {},
   "outputs": [],
   "source": [
    "# from Crypto.Signature import PKCS1_v1_5\n",
    "# from Crypto.Hash import SHA\n",
    "# from Crypto.PublicKey import RSA\n",
    "# import binascii"
   ]
  },
  {
   "cell_type": "markdown",
   "metadata": {},
   "source": [
    "- pycryptoのkey instanceをstrに変換するhelper functionを実装する\n",
    "    - strにしておく理由は後ほどわかる"
   ]
  },
  {
   "cell_type": "code",
   "execution_count": 8,
   "metadata": {},
   "outputs": [],
   "source": [
    "def decode_key(key):\n",
    "    if isinstance(key, str):\n",
    "        return key\n",
    "    return binascii.hexlify(key.exportKey(format='DER')).decode('ascii')\n",
    "def encode_key(key):\n",
    "    if isinstance(key, RSA.RsaKey):\n",
    "        return key\n",
    "    return RSA.importKey(binascii.unhexlify(key))"
   ]
  },
  {
   "cell_type": "markdown",
   "metadata": {},
   "source": [
    "Walletの改良"
   ]
  },
  {
   "cell_type": "markdown",
   "metadata": {},
   "source": [
    "- 秘密鍵`private_key`の追加 \n",
    "- addressは対応する公開鍵とする\n",
    "- `sign_transaction`の追加\n",
    "    - transactionを受け取り，電子署名付きtransactionを返す\n",
    "- `send`を変更\n",
    "    - 電子署名付きtransactionを生成できるようになった!"
   ]
  },
  {
   "cell_type": "markdown",
   "metadata": {},
   "source": [
    "つぎに，transactionの電子署名をチェックするhelper functionを作る\n",
    "- signatureのpublic keyはtransactionのaddressなので，transactionを見れば電子署名の正当性を判別できる"
   ]
  },
  {
   "cell_type": "code",
   "execution_count": 9,
   "metadata": {},
   "outputs": [],
   "source": [
    "def verify_transaction(transaction) -> bool:\n",
    "    if transaction.sign is None:\n",
    "        return False\n",
    "    # hash the transaction\n",
    "    h=SHA.new(transaction.str_data().encode())\n",
    "    # generate verifier with public key\n",
    "    verifier=PKCS1_v1_5.new(encode_key(transaction.sender_address))\n",
    "    # is the signature correct?\n",
    "    return verifier.verify(h, binascii.unhexlify(transaction.sign))"
   ]
  },
  {
   "cell_type": "markdown",
   "metadata": {},
   "source": [
    "## デモ: RSAを用いたtransactionの発行とチェック\n",
    "先ほどと同じようにデモをしてみる"
   ]
  },
  {
   "cell_type": "markdown",
   "metadata": {},
   "source": [
    "- transactionを発行し，電子署名を行い，bankに提出する"
   ]
  },
  {
   "cell_type": "markdown",
   "metadata": {},
   "source": [
    "- transactionの電子署名を確認してみる"
   ]
  },
  {
   "cell_type": "markdown",
   "metadata": {},
   "source": [
    "- データをちょと変えてみると，不正なtransactionになるのがわかる"
   ]
  },
  {
   "attachments": {},
   "cell_type": "markdown",
   "metadata": {},
   "source": [
    "- これは後にできると面白いかもしれない"
   ]
  },
  {
   "attachments": {},
   "cell_type": "markdown",
   "metadata": {},
   "source": [
    "\n",
    "\n",
    "- transactionの改竄リスクを低減することができた \n",
    "    - しかし依然として，**double-spending problem** を防ぐには信頼のある第三者が必要となる\n",
    "    - これはデータで通貨を作る際の最も大きな障害だった(データは簡単にコピーできるから)\n",
    "- すべてのtransactionが公開されていれば，double-spendingは防げるのでは？\n",
    "    - 公開されていればreceiverも記録をチェックできる"
   ]
  },
  {
   "cell_type": "markdown",
   "metadata": {},
   "source": [
    "# Timestamp Server によるTransactionの公開\n",
    "- いくつかのtransactionをまとめて，timestampをつけ，**block**で公開することを考える\n",
    "    - 信頼のある**timestamp server**がtransactionをまとめてtimestampをつけ，電子署名をして公開する\n",
    "    - ある特定の時刻にそのtransactionが存在したことが保証される\n",
    "- さらに，blockには直前のtimestampのhashを含め，**blockchain**を作る\n",
    "    - blockを改ざんすると，以降のblockは全て不正なものとなる\n",
    "- これでtransactionをチェックしてdouble-spendingを防ぐ第三者は必要なくなった\n",
    "    - transactionは公開されているから，誰でも検証することができる"
   ]
  },
  {
   "cell_type": "markdown",
   "metadata": {},
   "source": [
    "## Blockの実装\n",
    "- strで表現できるよう，json methodを追加する\n",
    "- ついでにhash methodも実装する"
   ]
  },
  {
   "cell_type": "code",
   "execution_count": 10,
   "metadata": {},
   "outputs": [],
   "source": [
    "from typing import Tuple, Sequence\n",
    "import hashlib"
   ]
  },
  {
   "cell_type": "code",
   "execution_count": 11,
   "metadata": {},
   "outputs": [],
   "source": [
    "from block import Block"
   ]
  },
  {
   "cell_type": "markdown",
   "metadata": {},
   "source": [
    "## Timestamp Serverの実装\n",
    "- timestamp serverは以下の流れで**blockchain**を作る\n",
    "    1. transactionのリストを受け取る\n",
    "    2. 一つ前のblockのhashとtimestampをつけてBlockにまとめる\n",
    "    3. **電子署名**をする\n",
    "    4. 公開する"
   ]
  },
  {
   "cell_type": "markdown",
   "metadata": {},
   "source": [
    "- blockの正当性の保証はtimestamp serverの**電子署名**で行う\n",
    "    - serverに RSA キーペアをもたせる\n",
    "- 最初のblockはprevious blockがないため，特別なブロック(**genesis**)を用意する ([参考](https://en.bitcoin.it/wiki/Genesis_block))\n",
    "- blockchainは今回はただのリストにする"
   ]
  },
  {
   "cell_type": "code",
   "execution_count": 12,
   "metadata": {},
   "outputs": [],
   "source": [
    "from time import time"
   ]
  },
  {
   "cell_type": "code",
   "execution_count": 13,
   "metadata": {},
   "outputs": [],
   "source": [
    "# class TimestampServer:\n",
    "#     def __init__(self):\n",
    "#         key=RSA.generate(1024)\n",
    "#         self.public_key=key.publickey()\n",
    "#         self.signer=PKCS1_v1_5.new(key)\n",
    "        \n",
    "#         genesis=Block(time(), (), \"0\")\n",
    "#         self.block_chain=[genesis]\n",
    "        \n",
    "#     def generate_block(self, transactions: Sequence[Transaction]):\n",
    "#         # generate block\n",
    "#         block=Block(time(), tuple(transactions), self.block_chain[-1].hash())\n",
    "        \n",
    "#         # sign the block\n",
    "#         dct=dc.asdict(block)\n",
    "#         del dct[\"sign\"]\n",
    "#         block.sign=self.signer.sign(SHA.new(json.dumps(dct).encode())).hex()\n",
    "        \n",
    "#         # publish the block\n",
    "#         self.block_chain.append(block)"
   ]
  },
  {
   "cell_type": "markdown",
   "metadata": {},
   "source": [
    "## blockchainの正当性確認\n",
    "- blockchainの正当性を確認するhelper functionを用意する\n",
    "    1. blockの持つ**previous_hash**は正しいか?\n",
    "    2. blockに入っているtransactionは正当か?\n",
    "    3. timestamp serverがつけた電子署名は正当か?"
   ]
  },
  {
   "cell_type": "markdown",
   "metadata": {},
   "source": [
    "- blockの正当性確認"
   ]
  },
  {
   "cell_type": "code",
   "execution_count": 14,
   "metadata": {},
   "outputs": [],
   "source": [
    "# def verify_block(previous_block, block, timestamp_server_publickey) -> bool:\n",
    "#     is_correct_hash = previous_block.hash() ==  block.previous_hash\n",
    "#     is_correct_transactions = all(map(verify_transaction, block.transactions))\n",
    "    \n",
    "#     dct=dc.asdict(block)\n",
    "#     del dct[\"sign\"]\n",
    "#     h=SHA.new(json.dumps(dct).encode())\n",
    "#     verifier=PKCS1_v1_5.new(timestamp_server_publickey)\n",
    "#     is_correct_sign=verifier.verify(h, binascii.unhexlify(block.sign))\n",
    "#     return is_correct_hash and is_correct_transactions and is_correct_sign"
   ]
  },
  {
   "cell_type": "markdown",
   "metadata": {},
   "source": [
    "- blockchainの正当性確認"
   ]
  },
  {
   "cell_type": "code",
   "execution_count": 15,
   "metadata": {},
   "outputs": [],
   "source": [
    "# def verify_blockchain(chain, timestamp_server_publickey):\n",
    "#     for i in range(len(chain)-1):\n",
    "#         if not verify_block(chain[-i-2],chain[-i-1],timestamp_server_publickey):\n",
    "#             return False\n",
    "#     return True"
   ]
  },
  {
   "cell_type": "markdown",
   "metadata": {},
   "source": [
    "# Proof-of-Workの実装\n",
    "- これがblockchainの革新的要素\n",
    "- 先程は\"信頼の置ける\" timestamp serverの電子署名が，Blockの正当性を保証していた\n",
    "- では誰でも同じ署名ができれば，誰でもtimestamp serverの仕事ができるのでは?\n",
    "    - 電子署名でやると，当然ブロックの正当性の証明にはならない..\n",
    "- **[HashCash](https://en.bitcoin.it/wiki/Hashcash)**を用いる"
   ]
  },
  {
   "cell_type": "markdown",
   "metadata": {},
   "source": [
    "## Blockにnonceを加える\n",
    "- これがtimestamp serverの電子署名の代わりとなる\n",
    "- blockのハッシュ値が適当な条件を満たすように**nonce**を追加する\n",
    "    - 例えば上4桁が0\n",
    "    - この制約を**difficulty**と呼ぶ\n",
    "    - difficultyは適当に調整される. 例えばbitcoinの場合は，blockの追加のintervalが10分程度になるように調整されるようだ\n",
    "        - [Difficulty \\- Bitcoin Wiki](https://en.bitcoin.it/wiki/Difficulty)\n",
    "    - 今回はdifficultyは固定にする\n",
    "- nonceを見つける作業が**mine**\n",
    "    - nonceを見つけるのは難しい(たくさん試して，あたりを引くしかない)\n",
    "    - これによってblockの生成を非常に高コストにすることができる\n",
    "    - nonceが正しいことを確認するのは簡単\n",
    "        - 電子署名と同様, 正当性の確認が簡単に行える\n",
    "- **mine**は誰でも行える"
   ]
  },
  {
   "cell_type": "markdown",
   "metadata": {},
   "source": [
    "- Blockにnonceをつける．今回の変更はこれだけ"
   ]
  },
  {
   "cell_type": "code",
   "execution_count": 16,
   "metadata": {},
   "outputs": [],
   "source": [
    "@dataclass\n",
    "class Block:\n",
    "    time: float\n",
    "    transactions: Tuple[Transaction]\n",
    "    previous_hash: str\n",
    "    nonce: int = None\n",
    "        \n",
    "    def json_dumps(self) -> str:\n",
    "        dct=dc.asdict(self)\n",
    "        dct[\"transactions\"]=[t.json_dumps() for t in self.transactions]\n",
    "        return json.dumps(dct)\n",
    "    \n",
    "    @classmethod\n",
    "    def json_loads(cls, string) -> Block:\n",
    "        dct=json.loads(string)\n",
    "        dct[\"transactions\"]=tuple([Transaction.json_loads(t) for t in dct[\"transactions\"]])\n",
    "        return cls(**dct)\n",
    "        \n",
    "    def hash(self): \n",
    "        block_bytes=self.json_dumps().encode()\n",
    "        return hashlib.sha256(block_bytes).hexdigest()"
   ]
  },
  {
   "cell_type": "markdown",
   "metadata": {},
   "source": [
    "## nonce の正当性確認functionを実装"
   ]
  },
  {
   "cell_type": "code",
   "execution_count": 17,
   "metadata": {},
   "outputs": [],
   "source": [
    "difficulty=3\n",
    "def valid_proof(block):\n",
    "    return block.hash()[:difficulty] == \"0\" * difficulty"
   ]
  },
  {
   "cell_type": "markdown",
   "metadata": {},
   "source": [
    "## mineの実装\n",
    "- あたりを引くまで手当たり次第試す"
   ]
  },
  {
   "cell_type": "code",
   "execution_count": 18,
   "metadata": {},
   "outputs": [],
   "source": [
    "def mine(block):\n",
    "    nonce=0\n",
    "    block.nonce=nonce\n",
    "    while not valid_proof(block):\n",
    "        nonce += 1\n",
    "        block.nonce=nonce\n",
    "    return block"
   ]
  },
  {
   "cell_type": "markdown",
   "metadata": {},
   "source": [
    "- ついでにverify_blockも改良"
   ]
  },
  {
   "cell_type": "code",
   "execution_count": 19,
   "metadata": {},
   "outputs": [],
   "source": [
    "def verify_block(previous_block, block) -> bool:\n",
    "    is_correct_hash = previous_block.hash() ==  block.previous_hash\n",
    "    is_correct_transactions = all(map(verify_transaction, block.transactions))\n",
    "    is_correct_proof = valid_proof(block)\n",
    "    return is_correct_hash and is_correct_transactions and is_correct_proof"
   ]
  },
  {
   "cell_type": "markdown",
   "metadata": {},
   "source": [
    "- BlockChainもちょっと改良\n",
    "    - 自身をstrに変換するmethodをつける"
   ]
  },
  {
   "cell_type": "code",
   "execution_count": 20,
   "metadata": {},
   "outputs": [],
   "source": [
    "from blockchain import BlockChain\n",
    "\n",
    "# class BlockChain(list):\n",
    "#     def json_dumps(self) -> str:\n",
    "#         return json.dumps([block.json_dumps() for block in self])\n",
    "#     @classmethod\n",
    "#     def json_loads(cls, string) -> BlockChain:\n",
    "#         return cls([Block.json_loads(s) for s in json.loads(string)])"
   ]
  },
  {
   "cell_type": "markdown",
   "metadata": {},
   "source": [
    "## デモ: tranasctionの発行からminingまで"
   ]
  },
  {
   "attachments": {},
   "cell_type": "markdown",
   "metadata": {},
   "source": [
    "# ＊＊＊＊＊NodeとConsensus Algorithm\n",
    "- 前回までで分散管理の準備は整った\n",
    "- 具体的にblockchainをつくる**node**を実装する\n",
    "- nodeやsender, receiverが集まって**network**を形成する\n",
    "- networkの動きは以下のようになる"
   ]
  },
  {
   "attachments": {},
   "cell_type": "markdown",
   "metadata": {},
   "source": [
    "1. senderがtransaction生成．なるべく多くのnodeにbroadcastする（全てのnodeにbroadcastする事を確認する）\n",
    "2. nodeはtransactionを集めてblockにまとめる\n",
    "3. mine（必要ない）\n",
    "4. 他のnodeにマイニングしたblockをbroadcastする\n",
    "5. blockを受け取ったnodeは，blockの正当性を確認し，double-spendingのチェックをする（チェックはいくらしても良い、必要に応じて外して行く）\n",
    "6. チェックが通れば，次のblockの作成を始める（チェックはないのでいつでもblockを作成できるが、ブロックチェーンではないのか）"
   ]
  },
  {
   "cell_type": "markdown",
   "metadata": {},
   "source": [
    "- Nodeが複数いて，異なるBlockChainを持つときは，どのように正しさを判断するか？\n",
    "    - **Consensus Algorithm**\n",
    "    - 最も長いblockchainを，最も正しいblockchainとみなす\n",
    "        - なぜなら，chainが長ければ長いほど，多くの計算資源が注ぎ込まれたことになるから\n",
    "        - 多数決ではなく，**one-CPU-one-vote**"
   ]
  },
  {
   "attachments": {},
   "cell_type": "markdown",
   "metadata": {},
   "source": [
    "- Nodeの役割を考え直す必要がある\n",
    "\n",
    "- Nodeが複数いて、異なる分散台帳を持つが、それらは論理的に単一である\n",
    "    - **Consensus Algorithm** は簡単なものであり、許可型の分散台帳において、論理的な単一性を保持する"
   ]
  },
  {
   "cell_type": "code",
   "execution_count": 21,
   "metadata": {},
   "outputs": [],
   "source": [
    "from uuid import uuid4\n",
    "from time import sleep\n",
    "from copy import deepcopy\n",
    "import multiprocessing as mp\n",
    "import random\n",
    "from itertools import count\n",
    "import node "
   ]
  },
  {
   "cell_type": "markdown",
   "metadata": {},
   "source": [
    "- nodeを実装する\n",
    "- networkまわりの細かい作業は，network interfaceに任せる"
   ]
  },
  {
   "attachments": {},
   "cell_type": "markdown",
   "metadata": {},
   "source": [
    "- 改めて、いわゆるマイニングを必要とするノードにおいては、ノードが複雑であると思われる。\n",
    "- コンフリクトは起こらない（２つのコンセンサスアルゴリズムを用意して、その様子を比較検討できるようにする）"
   ]
  },
  {
   "cell_type": "code",
   "execution_count": 22,
   "metadata": {},
   "outputs": [],
   "source": [
    "class Node:\n",
    "    def __init__(self, network, genesis, uuid=None):\n",
    "        self.chain=BlockChain([genesis])\n",
    "        self.uuid=uuid or str(uuid4())\n",
    "        self.network=network\n",
    "        \n",
    "    def work(self, verbose=True):\n",
    "        while True:\n",
    "            if not self.ordering():\n",
    "                sleep(1.0) # wait due to no transactions\n",
    "            if self.add_block():\n",
    "                if verbose: print(self.uuid, \"Added one block\")\n",
    "            self.network.post_chain(self.chain, self.uuid)        \n",
    "            if self.resolve_conflicts():\n",
    "                if verbose: print(self.uuid, \"Change chain\")\n",
    "\n",
    "    def ordering(self):\n",
    "        transactions=self.network.get_transactions(self.uuid)\n",
    "        if len(transactions)==0:\n",
    "            return False # cannot mine due to no transactions\n",
    "        previous_hash=self.chain[-1].hash()\n",
    "        block=Block(time(), tuple(transactions), previous_hash)\n",
    "                \n",
    "        if self.add_block(): \n",
    "            return True\n",
    "        if self.resolve_conflicts():\n",
    "            return True\n",
    "                \n",
    "        self.network.broadcast_block(block, self.uuid)\n",
    "        return True # successfully mined\n",
    "\n",
    "    def add_block(self):\n",
    "        for block in self.network.get_blocks(self.uuid):\n",
    "            # if self.verify_block(block):\n",
    "                self.chain.append(block)           \n",
    "                if self.verify_chain(self.chain):\n",
    "                    return True\n",
    "                else:\n",
    "                    self.chain.pop(-1)\n",
    "\n",
    "        return False # no block is added\n",
    "\n",
    "    def resolve_conflicts(self):\n",
    "        \"\"\"Longest valid chain is authoritative\"\"\"\n",
    "        # authoritative_chain=self.chain\n",
    "        authoritative_chain=self.chain  \n",
    "        for chain in self.network.get_neighbour_chains(self.uuid):\n",
    "            if not self.verify_chain(chain):\n",
    "                # node is incorrect\n",
    "                continue\n",
    "            if len(chain)>len(authoritative_chain):\n",
    "                # Longest valid chain is authoritative\n",
    "                authoritative_chain=deepcopy(chain)\n",
    "        self.chain=authoritative_chain \n",
    "        # self.chain=deepcopy(self.network.get_chain('the_leader_node')) \n",
    "        return self.chain is not authoritative_chain\n",
    "        \n",
    "    @staticmethod\n",
    "    def verify_transaction(transaction):\n",
    "        if transaction.sign is None:\n",
    "            return False\n",
    "        h=SHA.new(transaction.str_data().encode())\n",
    "        verifier=PKCS1_v1_5.new(encode_key(transaction.sender_address))\n",
    "        return verifier.verify(h, binascii.unhexlify(transaction.sign))        \n",
    "\n",
    "    def verify_block(self, block) -> bool:\n",
    "        is_correct_transactions = all(map(self.verify_transaction, block.transactions))\n",
    "        return is_correct_transactions\n",
    "    \n",
    "    def verify_chain(self, chain):\n",
    "        for i in range(len(chain)-1, 0, -1):\n",
    "            # if not self.verify_block(chain[i]):\n",
    "            #     return False\n",
    "            if chain[i-1].hash() != chain[i].previous_hash:\n",
    "                return False\n",
    "        return True"
   ]
  },
  {
   "cell_type": "markdown",
   "metadata": {},
   "source": [
    "- 全体的に，networkの作業が追加されている\n",
    "- mineを少し変更している\n",
    "    - 複数のnodeが同じ方法でマイニングをするのは無駄が生じる可能性がある\n",
    "        - 例えば全く同じBlockのマイニングを複数のノードが開始した場合，確実に最も計算力の高いnodeがマイニングを成功させることになる"
   ]
  },
  {
   "cell_type": "markdown",
   "metadata": {},
   "source": [
    "- Walletもネットワーク対応に\n",
    "    - transactionを発行したら，知っているnodeにtransactionを送る"
   ]
  },
  {
   "cell_type": "markdown",
   "metadata": {},
   "source": [
    "- networkっぽいものを実装する\n",
    "    - Network classを中継点としてデータの遣り取りをする\n",
    "- あとでmultiprocessでノードを動かすために，データの管理はmultiprocess.managerで行う\n",
    "- flaskとかで作っても面白いかもしれない\n",
    "- 本質的でないので読み飛ばして良い"
   ]
  },
  {
   "cell_type": "code",
   "execution_count": 23,
   "metadata": {},
   "outputs": [],
   "source": [
    "from typing import List"
   ]
  },
  {
   "cell_type": "code",
   "execution_count": 24,
   "metadata": {},
   "outputs": [],
   "source": [
    "class Network:\n",
    "    def __init__(self, neighbours=()):\n",
    "        self.manager=mp.Manager()\n",
    "        self.chains=self.manager.dict()\n",
    "        self.blocks=self.manager.dict()\n",
    "        self.transactions=self.manager.dict()\n",
    "        self.neighbours=dict(neighbours)\n",
    "        \n",
    "    def post_chain(self, chain, uuid):\n",
    "        self.chains[uuid]=chain.json_dumps()\n",
    "    \n",
    "    def get_leader_chain(self, uuid) -> BlockChain:\n",
    "        if uuid not in self.chains:\n",
    "            return []\n",
    "        return self.chains[uuid]       \n",
    "\n",
    "    def get_chain(self, uuid) -> BlockChain:\n",
    "        if uuid not in self.chains:\n",
    "            return []\n",
    "        return BlockChain.json_loads(self.chains[uuid])\n",
    "    \n",
    "    def get_neighbour_chains(self, uuid) -> List[BlockChain]:\n",
    "        return [self.get_chain(neigh) for neigh in self.neighbours[uuid] if neigh != uuid]\n",
    "    \n",
    "    def post_block(self, block, uuid):\n",
    "        if uuid not in self.blocks:\n",
    "            self.blocks[uuid]=self.manager.list([block.json_dumps()])\n",
    "        else:\n",
    "            self.blocks[uuid].append(block.json_dumps())\n",
    "            \n",
    "    def broadcast_block(self, block, uuid):\n",
    "        for receiver in self.neighbours[uuid]:\n",
    "            self.post_block(block, receiver)\n",
    "            \n",
    "    def get_blocks(self, uuid) -> List[Block]:\n",
    "        if uuid not in self.blocks:\n",
    "            return []\n",
    "        res=[Block.json_loads(s) for s in self.blocks[uuid]]\n",
    "        self.blocks[uuid][:]=[]\n",
    "        return res\n",
    "    \n",
    "    def post_transaction(self, transaction, uuid):\n",
    "        if uuid not in self.transactions:\n",
    "            self.transactions[uuid]=self.manager.list([transaction.json_dumps()])\n",
    "        else:\n",
    "            self.transactions[uuid].append(transaction.json_dumps())\n",
    "            \n",
    "    def get_transactions(self, uuid) -> Tuple[Transaction]:\n",
    "        if uuid not in self.transactions:\n",
    "            return []\n",
    "        res=[Transaction.json_loads(s) for s in self.transactions[uuid]]\n",
    "        self.transactions[uuid][:]=[]\n",
    "        return res\n",
    "    \n",
    "    def shutdown(self):\n",
    "        self.manager.shutdown()"
   ]
  },
  {
   "cell_type": "markdown",
   "metadata": {},
   "source": [
    "## ノード1つの場合のテスト"
   ]
  },
  {
   "cell_type": "code",
   "execution_count": 25,
   "metadata": {},
   "outputs": [],
   "source": [
    "genesis=Block(time(), (), \"0\")\n",
    "uuid='the_leader_node'\n",
    "network=Network({uuid:[uuid]})\n",
    "node=Node(network, genesis, uuid)"
   ]
  },
  {
   "attachments": {},
   "cell_type": "markdown",
   "metadata": {},
   "source": [
    "### トランザクションはライブラリ化される必要がある"
   ]
  },
  {
   "cell_type": "code",
   "execution_count": 26,
   "metadata": {},
   "outputs": [],
   "source": [
    "import json\n",
    "import dataclasses as dc"
   ]
  },
  {
   "cell_type": "code",
   "execution_count": 27,
   "metadata": {},
   "outputs": [],
   "source": [
    "@dataclass\n",
    "class Transaction:\n",
    "    sender_address: int\n",
    "    receiver_address: int\n",
    "    value: float "
   ]
  },
  {
   "attachments": {},
   "cell_type": "markdown",
   "metadata": {},
   "source": [
    "### 今回可読性を重要視したため、暗号化は試用していない"
   ]
  },
  {
   "cell_type": "code",
   "execution_count": 28,
   "metadata": {},
   "outputs": [],
   "source": [
    "# from Crypto.Signature import PKCS1_v1_5\n",
    "# from Crypto.Hash import SHA\n",
    "# from Crypto.PublicKey import RSA\n",
    "# import binascii"
   ]
  },
  {
   "cell_type": "code",
   "execution_count": 29,
   "metadata": {},
   "outputs": [],
   "source": [
    "from wallet import Wallet"
   ]
  },
  {
   "cell_type": "code",
   "execution_count": 30,
   "metadata": {},
   "outputs": [],
   "source": [
    "alice=Wallet(network, [uuid])\n",
    "bob=Wallet(network, [uuid])"
   ]
  },
  {
   "cell_type": "markdown",
   "metadata": {},
   "source": [
    "- これを実行してしばらく問題が起きなければOK\n",
    "    - 適当にinterruptする"
   ]
  },
  {
   "cell_type": "code",
   "execution_count": 31,
   "metadata": {},
   "outputs": [],
   "source": [
    "# node.work(verbose=True)"
   ]
  },
  {
   "attachments": {},
   "cell_type": "markdown",
   "metadata": {},
   "source": [
    "\n",
    "- 後片付け"
   ]
  },
  {
   "cell_type": "code",
   "execution_count": 32,
   "metadata": {},
   "outputs": [],
   "source": [
    "network.shutdown()\n"
   ]
  },
  {
   "attachments": {},
   "cell_type": "markdown",
   "metadata": {},
   "source": [
    "# デモ: 分散ブロックチェーンのデモ\n",
    "- multiprocessingでnetworkのデモを行う"
   ]
  },
  {
   "cell_type": "code",
   "execution_count": 33,
   "metadata": {},
   "outputs": [],
   "source": [
    "genesis=Block(time(), (), \"0\")\n",
    "network=Network()"
   ]
  },
  {
   "attachments": {},
   "cell_type": "markdown",
   "metadata": {},
   "source": [
    "- ノードを生成する"
   ]
  },
  {
   "attachments": {},
   "cell_type": "markdown",
   "metadata": {},
   "source": [
    "- uuid はテストで分かりやすいように名前を与えてある"
   ]
  },
  {
   "cell_type": "code",
   "execution_count": 34,
   "metadata": {},
   "outputs": [],
   "source": [
    "# num_nodes=2\n",
    "# nodes=[str(uuid4()) for _ in range(num_nodes-1)]\n",
    "# nodes=['leader'] + nodes\n",
    "nodes=['the_leader_node', 'the_blue_sky', 'white_noise', 'yellow_submarine', 'green_planet']\n",
    "# nodes=['the_leader_node', 'the_blue_sky']"
   ]
  },
  {
   "attachments": {},
   "cell_type": "markdown",
   "metadata": {},
   "source": [
    "\n",
    "- nodeのnetworkの状態を定義する\n",
    "- とりあえずは全結合にする\n",
    "    - つまり全てのNode同士，直接やりとりできる"
   ]
  },
  {
   "attachments": {},
   "cell_type": "markdown",
   "metadata": {},
   "source": [
    "- 1つのnodeはただ１つの決まった結合を持つ場合、コンフリクトは起こらない\n",
    "- ブロックが作成されるたびにリーダーにブロードキャストしたい"
   ]
  },
  {
   "attachments": {},
   "cell_type": "markdown",
   "metadata": {},
   "source": [
    "- ネットワーク・トポロジーを可視化したい"
   ]
  },
  {
   "cell_type": "code",
   "execution_count": 35,
   "metadata": {},
   "outputs": [],
   "source": [
    "network.neighbours['the_leader_node']=['the_leader_node', 'the_blue_sky', 'white_noise', 'yellow_submarine', 'green_planet']\n",
    "network.neighbours['the_blue_sky']=['the_leader_node', 'the_blue_sky', 'the_leader_node']\n",
    "network.neighbours['white_noise']=['the_leader_node', 'white_noise', 'the_leader_node']\n",
    "network.neighbours['yellow_submarine']=['the_leader_node', 'yellow_submarine', 'the_leader_node']\n",
    "network.neighbours['green_planet']=['the_leader_node', 'green_planet', 'the_leader_node']"
   ]
  },
  {
   "cell_type": "code",
   "execution_count": 36,
   "metadata": {},
   "outputs": [],
   "source": [
    "# for uuid in nodes:\n",
    "#     network.neighbours[uuid]=nodes"
   ]
  },
  {
   "cell_type": "markdown",
   "metadata": {},
   "source": [
    "- multiprocess workerを作って起動する"
   ]
  },
  {
   "cell_type": "code",
   "execution_count": 37,
   "metadata": {},
   "outputs": [],
   "source": [
    "def node_work(uuid):\n",
    "    node=Node(network, genesis, uuid)\n",
    "    node.work()"
   ]
  },
  {
   "cell_type": "code",
   "execution_count": 38,
   "metadata": {},
   "outputs": [],
   "source": [
    "workers=[]\n",
    "for uuid in nodes:\n",
    "    worker=mp.Process(target=node_work, args=(uuid,))\n",
    "    workers.append(worker)\n",
    "    worker.start()"
   ]
  },
  {
   "cell_type": "markdown",
   "metadata": {},
   "source": [
    "- peopleを生成する\n",
    "- これも適当に人数を変えて遊ぶと良い"
   ]
  },
  {
   "attachments": {},
   "cell_type": "markdown",
   "metadata": {},
   "source": [
    "- peopleは概念としては今回はあまり試用していない"
   ]
  },
  {
   "cell_type": "code",
   "execution_count": 39,
   "metadata": {},
   "outputs": [],
   "source": [
    "# num_people=2\n",
    "# people=[Wallet(network, random.sample(nodes, random.randint(1, len(nodes)))) for _ in range(num_people)]\n",
    "alice=Wallet(network, ['the_leader_node'])\n",
    "bob=Wallet(network, ['the_blue_sky'])\n",
    "yamamoto=Wallet(network, ['the_white_noise'])\n",
    "\n",
    "people=[alice, bob, yamamoto]"
   ]
  },
  {
   "attachments": {},
   "cell_type": "markdown",
   "metadata": {},
   "source": [
    "### blockchain の表示\n",
    "- 各ノードの持つblockchainがどの様になっているのか表示する\n",
    "- 別Processで行う\n",
    "    - Jupyterは賢いのでoutputにきちんと表示してくれる"
   ]
  },
  {
   "cell_type": "code",
   "execution_count": 40,
   "metadata": {},
   "outputs": [
    {
     "name": "stdout",
     "output_type": "stream",
     "text": [
      "(Node: the_leader) [ee8e3]\n",
      "(Node: the_blue_s) [ee8e3]\n",
      "(Node: white_nois) [ee8e3]\n",
      "(Node: yellow_sub) [ee8e3]\n",
      "(Node: green_plan) [ee8e3]\n"
     ]
    }
   ],
   "source": [
    "from IPython.display import clear_output\n",
    "import time\n",
    "\n",
    "timeout = time.time() + 60\n",
    "def draw_chains(network):\n",
    "    while True:\n",
    "        if time.time() > timeout:\n",
    "            break\n",
    "        line=\"\"\n",
    "        for k, v in network.chains.items():\n",
    "            line += f\"(Node: {k[:10]}) \"\n",
    "            chain=BlockChain.json_loads(v)\n",
    "            h=list(map(lambda x: x.hash()[:5], chain))\n",
    "            line += \"--\".join(map(lambda x: f\"[{x}]\", h))\n",
    "            line += \"\\n\"\n",
    "        print(line.rstrip())\n",
    "        clear_output(True)\n",
    "        sleep(1.0)\n",
    "\n",
    "\n",
    "worker=mp.Process(target=draw_chains, args=(network,))\n",
    "worker.start()"
   ]
  },
  {
   "cell_type": "markdown",
   "metadata": {},
   "source": [
    "- 取引をして遊ぶ\n",
    "    - ランダムに取引が行われるコードを書いてみる\n",
    "    - 上の表示が変化する!"
   ]
  },
  {
   "cell_type": "code",
   "execution_count": 41,
   "metadata": {},
   "outputs": [
    {
     "name": "stdout",
     "output_type": "stream",
     "text": [
      "\n"
     ]
    }
   ],
   "source": [
    "def generate_transactions():\n",
    "    # for _ in range(random.randint(1,10)):\n",
    "    #     sender, receiver= random.sample(people, 2)\n",
    "    #     # sender.send(receiver.address, random.randint(1, 100))\n",
    "    #     sender.send(receiver.address, 'inquiry')\n",
    "\n",
    "    alice.send([None], 'cancel')\n",
    "    bob.send([None], 'reservation')"
   ]
  },
  {
   "cell_type": "code",
   "execution_count": 42,
   "metadata": {},
   "outputs": [
    {
     "ename": "NameError",
     "evalue": "name 'Transaction' is not defined",
     "output_type": "error",
     "traceback": [
      "\u001b[0;31m---------------------------------------------------------------------------\u001b[0m",
      "\u001b[0;31mNameError\u001b[0m                                 Traceback (most recent call last)",
      "Cell \u001b[0;32mIn[42], line 1\u001b[0m\n\u001b[0;32m----> 1\u001b[0m generate_transactions()\n",
      "Cell \u001b[0;32mIn[41], line 7\u001b[0m, in \u001b[0;36mgenerate_transactions\u001b[0;34m()\u001b[0m\n\u001b[1;32m      1\u001b[0m \u001b[39mdef\u001b[39;00m \u001b[39mgenerate_transactions\u001b[39m():\n\u001b[1;32m      2\u001b[0m     \u001b[39m# for _ in range(random.randint(1,10)):\u001b[39;00m\n\u001b[1;32m      3\u001b[0m     \u001b[39m#     sender, receiver= random.sample(people, 2)\u001b[39;00m\n\u001b[1;32m      4\u001b[0m     \u001b[39m#     # sender.send(receiver.address, random.randint(1, 100))\u001b[39;00m\n\u001b[1;32m      5\u001b[0m     \u001b[39m#     sender.send(receiver.address, 'inquiry')\u001b[39;00m\n\u001b[0;32m----> 7\u001b[0m     alice\u001b[39m.\u001b[39;49msend([\u001b[39mNone\u001b[39;49;00m], \u001b[39m'\u001b[39;49m\u001b[39mcancel\u001b[39;49m\u001b[39m'\u001b[39;49m)\n\u001b[1;32m      8\u001b[0m     bob\u001b[39m.\u001b[39msend([\u001b[39mNone\u001b[39;00m], \u001b[39m'\u001b[39m\u001b[39mreservation\u001b[39m\u001b[39m'\u001b[39m)\n",
      "File \u001b[0;32m~/MyBlockchain/src/wallet.py:16\u001b[0m, in \u001b[0;36mWallet.send\u001b[0;34m(self, receiver_address, value)\u001b[0m\n\u001b[1;32m     15\u001b[0m \u001b[39mdef\u001b[39;00m \u001b[39msend\u001b[39m(\u001b[39mself\u001b[39m, receiver_address, value):\n\u001b[0;32m---> 16\u001b[0m     transaction\u001b[39m=\u001b[39mTransaction(\u001b[39mself\u001b[39m\u001b[39m.\u001b[39maddress, receiver_address, value)\n\u001b[1;32m     17\u001b[0m     \u001b[39m# self.broadcast(self.sign_transaction(transaction))\u001b[39;00m\n\u001b[1;32m     18\u001b[0m     \u001b[39mself\u001b[39m\u001b[39m.\u001b[39mbroadcast(transaction)\n",
      "\u001b[0;31mNameError\u001b[0m: name 'Transaction' is not defined"
     ]
    }
   ],
   "source": [
    "generate_transactions()"
   ]
  },
  {
   "attachments": {},
   "cell_type": "markdown",
   "metadata": {},
   "source": [
    "### スマートコントラクトの実装に向けて"
   ]
  },
  {
   "cell_type": "code",
   "execution_count": null,
   "metadata": {},
   "outputs": [],
   "source": [
    "# import Smartcontract"
   ]
  },
  {
   "cell_type": "code",
   "execution_count": null,
   "metadata": {},
   "outputs": [],
   "source": [
    "# import json\n",
    "# import network\n",
    "# import wallet\n",
    "import collections\n",
    "\n",
    "class Smartcontract:\n",
    "\n",
    "    def __init__(self, network):\n",
    "        self.state = {\"sender_address\": None, \"receiver_address\": None, \"reserved\": 0}\n",
    "        self.network = network\n",
    "\n",
    "    #トランザクションの履歴を取得する\n",
    "    def get_history_of_transactions_by_uuid(self, uuid):\n",
    "        history = []\n",
    "        for chain in json.loads(self.network.get_chain(uuid).json_dumps()):\n",
    "                transactions = json.loads(chain).get('transactions')\n",
    "                for t in transactions:\n",
    "                    history.append(t)  \n",
    "\n",
    "        return history             \n",
    "\n",
    "    def get_current_state(self, uuid='the_leader_node'):\n",
    "        for operand in self.get_history_of_transactions_by_uuid(uuid):\n",
    "            d_operand = json.loads(operand) #convert to a dictionary\n",
    "            if d_operand['value']=='reservation':\n",
    "                if not self.state[\"reserved\"]:\n",
    "                    self.state[\"sender_address\"] = d_operand[\"sender_address\"]\n",
    "                    self.state[\"receiver_address\"] = d_operand[\"receiver_address\"]\n",
    "                    self.state[\"reserved\"] = 1\n",
    "            elif d_operand['value']=='cancel':\n",
    "                if self.state[\"reserved\"]:\n",
    "                    if ((self.state[\"sender_address\"]==d_operand[\"sender_address\"])):\n",
    "                            self.state[\"sender_address\"] = None\n",
    "                            self.state[\"receiver_address\"] = None\n",
    "                            self.state[\"reserved\"] = 0\n",
    "        return self.state\n",
    "\n",
    "    def cancel_reservation(self, s):\n",
    "        self.state = self.get_current_state('the_leader_node')\n",
    "        # print(self.state['sender_address'][0])\n",
    "        # print(s.address[0])        \n",
    "        if (self.state['reserved'] and (collections.Counter(self.state['sender_address']) == collections.Counter(s.address))):\n",
    "            # alice.send(bob.address, 'cancel')      \n",
    "            s.send([None], 'cancel')   \n",
    "            return True\n",
    "        return False\n",
    "\n",
    "    def make_a_reservation(self, s):\n",
    "        self.state = self.get_current_state('the_leader_node')\n",
    "        if not self.state['reserved']:\n",
    "            # alice.send(bob.address, 'reservation')     \n",
    "            s.send([None], 'reservation')         \n",
    "            return True\n",
    "        return False"
   ]
  },
  {
   "attachments": {},
   "cell_type": "markdown",
   "metadata": {},
   "source": [
    "### メッセージを出力した方が良いかもしれない"
   ]
  },
  {
   "cell_type": "code",
   "execution_count": null,
   "metadata": {},
   "outputs": [],
   "source": [
    "sc = Smartcontract(network)\n",
    "\n",
    "s_uuid = 'the_leader_node'\n",
    "s = Wallet(network, [s_uuid])\n",
    "b_uuid = 'the_blue_sky'\n",
    "b = Wallet(network, [b_uuid])"
   ]
  },
  {
   "cell_type": "code",
   "execution_count": null,
   "metadata": {},
   "outputs": [
    {
     "ename": "NameError",
     "evalue": "name 'Transaction' is not defined",
     "output_type": "error",
     "traceback": [
      "\u001b[0;31m---------------------------------------------------------------------------\u001b[0m",
      "\u001b[0;31mNameError\u001b[0m                                 Traceback (most recent call last)",
      "Cell \u001b[0;32mIn[48], line 3\u001b[0m\n\u001b[1;32m      1\u001b[0m clear_output(\u001b[39mTrue\u001b[39;00m)\n\u001b[0;32m----> 3\u001b[0m \u001b[39mprint\u001b[39m(s_uuid \u001b[39m+\u001b[39m \u001b[39m'\u001b[39m\u001b[39m は離着陸地点を予約しました。\u001b[39m\u001b[39m'\u001b[39m \u001b[39mif\u001b[39;00m sc\u001b[39m.\u001b[39;49mmake_a_reservation(s) \u001b[39melse\u001b[39;00m s_uuid \u001b[39m+\u001b[39m \u001b[39m'\u001b[39m\u001b[39m は離着陸地点は予約できませんでした。\u001b[39m\u001b[39m'\u001b[39m)\n\u001b[1;32m      5\u001b[0m \u001b[39mprint\u001b[39m(\u001b[39m'\u001b[39m\u001b[39m以下ブロックチェーンの内容（トランザクションの履歴）\u001b[39m\u001b[39m'\u001b[39m)\n\u001b[1;32m      6\u001b[0m \u001b[39mfor\u001b[39;00m index, each \u001b[39min\u001b[39;00m \u001b[39menumerate\u001b[39m(sc\u001b[39m.\u001b[39mget_history_of_transactions_by_uuid(s_uuid)):\n",
      "Cell \u001b[0;32mIn[46], line 52\u001b[0m, in \u001b[0;36mSmartcontract.make_a_reservation\u001b[0;34m(self, s)\u001b[0m\n\u001b[1;32m     49\u001b[0m \u001b[39mself\u001b[39m\u001b[39m.\u001b[39mstate \u001b[39m=\u001b[39m \u001b[39mself\u001b[39m\u001b[39m.\u001b[39mget_current_state(\u001b[39m'\u001b[39m\u001b[39mthe_leader_node\u001b[39m\u001b[39m'\u001b[39m)\n\u001b[1;32m     50\u001b[0m \u001b[39mif\u001b[39;00m \u001b[39mnot\u001b[39;00m \u001b[39mself\u001b[39m\u001b[39m.\u001b[39mstate[\u001b[39m'\u001b[39m\u001b[39mreserved\u001b[39m\u001b[39m'\u001b[39m]:\n\u001b[1;32m     51\u001b[0m     \u001b[39m# alice.send(bob.address, 'reservation')     \u001b[39;00m\n\u001b[0;32m---> 52\u001b[0m     s\u001b[39m.\u001b[39;49msend([\u001b[39mNone\u001b[39;49;00m], \u001b[39m'\u001b[39;49m\u001b[39mreservation\u001b[39;49m\u001b[39m'\u001b[39;49m)         \n\u001b[1;32m     53\u001b[0m     \u001b[39mreturn\u001b[39;00m \u001b[39mTrue\u001b[39;00m\n\u001b[1;32m     54\u001b[0m \u001b[39mreturn\u001b[39;00m \u001b[39mFalse\u001b[39;00m\n",
      "File \u001b[0;32m~/MyBlockchain/src/wallet.py:16\u001b[0m, in \u001b[0;36mWallet.send\u001b[0;34m(self, receiver_address, value)\u001b[0m\n\u001b[1;32m     15\u001b[0m \u001b[39mdef\u001b[39;00m \u001b[39msend\u001b[39m(\u001b[39mself\u001b[39m, receiver_address, value):\n\u001b[0;32m---> 16\u001b[0m     transaction\u001b[39m=\u001b[39mTransaction(\u001b[39mself\u001b[39m\u001b[39m.\u001b[39maddress, receiver_address, value)\n\u001b[1;32m     17\u001b[0m     \u001b[39m# self.broadcast(self.sign_transaction(transaction))\u001b[39;00m\n\u001b[1;32m     18\u001b[0m     \u001b[39mself\u001b[39m\u001b[39m.\u001b[39mbroadcast(transaction)\n",
      "\u001b[0;31mNameError\u001b[0m: name 'Transaction' is not defined"
     ]
    }
   ],
   "source": [
    "clear_output(True)\n",
    "\n",
    "print(s_uuid + ' は離着陸地点を予約しました。' if sc.make_a_reservation(s) else s_uuid + ' は離着陸地点は予約できませんでした。')\n",
    "\n",
    "print('以下ブロックチェーンの内容（トランザクションの履歴）')\n",
    "for index, each in enumerate(sc.get_history_of_transactions_by_uuid(s_uuid)):\n",
    "    print(str(index) +' '+ each)\n",
    "\n",
    "print('以下ブロックチェーンの源蔵のステート')\n",
    "print(sc.get_current_state(s_uuid))"
   ]
  },
  {
   "cell_type": "code",
   "execution_count": null,
   "metadata": {},
   "outputs": [
    {
     "ename": "NameError",
     "evalue": "name 'sc' is not defined",
     "output_type": "error",
     "traceback": [
      "\u001b[0;31m---------------------------------------------------------------------------\u001b[0m",
      "\u001b[0;31mNameError\u001b[0m                                 Traceback (most recent call last)",
      "Cell \u001b[0;32mIn[43], line 3\u001b[0m\n\u001b[1;32m      1\u001b[0m clear_output(\u001b[39mTrue\u001b[39;00m)\n\u001b[0;32m----> 3\u001b[0m \u001b[39mprint\u001b[39m(s_uuid \u001b[39m+\u001b[39m \u001b[39m'\u001b[39m\u001b[39m により離着陸地点の予約はキャンセルされました。\u001b[39m\u001b[39m'\u001b[39m \u001b[39mif\u001b[39;00m sc\u001b[39m.\u001b[39mcancel_reservation(s) \u001b[39melse\u001b[39;00m s_uuid \u001b[39m+\u001b[39m \u001b[39m'\u001b[39m\u001b[39m によっては離着陸地点はキャンセルできませんでした。\u001b[39m\u001b[39m'\u001b[39m)\n\u001b[1;32m      5\u001b[0m \u001b[39mprint\u001b[39m(\u001b[39m'\u001b[39m\u001b[39m以下ブロックチェーンの内容（トランザクションの履歴）\u001b[39m\u001b[39m'\u001b[39m)\n\u001b[1;32m      6\u001b[0m \u001b[39mfor\u001b[39;00m index, each \u001b[39min\u001b[39;00m \u001b[39menumerate\u001b[39m(sc\u001b[39m.\u001b[39mget_history_of_transactions_by_uuid(s_uuid)):\n",
      "\u001b[0;31mNameError\u001b[0m: name 'sc' is not defined"
     ]
    }
   ],
   "source": [
    "clear_output(True)\n",
    "\n",
    "print(s_uuid + ' により離着陸地点の予約はキャンセルされました。' if sc.cancel_reservation(s) else s_uuid + ' によっては離着陸地点はキャンセルできませんでした。')\n",
    "\n",
    "print('以下ブロックチェーンの内容（トランザクションの履歴）')\n",
    "for index, each in enumerate(sc.get_history_of_transactions_by_uuid(s_uuid)):\n",
    "    print(str(index) +' '+ each)\n",
    "\n",
    "print('以下ブロックチェーンの源蔵のステート')\n",
    "sc.get_current_state(s_uuid)"
   ]
  },
  {
   "cell_type": "code",
   "execution_count": null,
   "metadata": {},
   "outputs": [
    {
     "ename": "NameError",
     "evalue": "name 'sc' is not defined",
     "output_type": "error",
     "traceback": [
      "\u001b[0;31m---------------------------------------------------------------------------\u001b[0m",
      "\u001b[0;31mNameError\u001b[0m                                 Traceback (most recent call last)",
      "Cell \u001b[0;32mIn[44], line 1\u001b[0m\n\u001b[0;32m----> 1\u001b[0m \u001b[39mprint\u001b[39m(b_uuid \u001b[39m+\u001b[39m \u001b[39m'\u001b[39m\u001b[39m は離着陸地点を予約しました。\u001b[39m\u001b[39m'\u001b[39m \u001b[39mif\u001b[39;00m sc\u001b[39m.\u001b[39mmake_a_reservation(b) \u001b[39melse\u001b[39;00m b_uuid \u001b[39m+\u001b[39m \u001b[39m'\u001b[39m\u001b[39m は離着陸地点は予約できませんでした。\u001b[39m\u001b[39m'\u001b[39m)\n\u001b[1;32m      3\u001b[0m \u001b[39mprint\u001b[39m(\u001b[39m'\u001b[39m\u001b[39m以下ブロックチェーンの内容（トランザクションの履歴）\u001b[39m\u001b[39m'\u001b[39m)\n\u001b[1;32m      4\u001b[0m \u001b[39mfor\u001b[39;00m index, each \u001b[39min\u001b[39;00m \u001b[39menumerate\u001b[39m(sc\u001b[39m.\u001b[39mget_history_of_transactions_by_uuid(s_uuid)):\n",
      "\u001b[0;31mNameError\u001b[0m: name 'sc' is not defined"
     ]
    }
   ],
   "source": [
    "print(b_uuid + ' は離着陸地点を予約しました。' if sc.make_a_reservation(b) else b_uuid + ' は離着陸地点は予約できませんでした。')\n",
    "\n",
    "print('以下ブロックチェーンの内容（トランザクションの履歴）')\n",
    "for index, each in enumerate(sc.get_history_of_transactions_by_uuid(s_uuid)):\n",
    "    print(str(index) +' '+ each)\n",
    "\n",
    "sc.get_current_state(s_uuid)"
   ]
  },
  {
   "cell_type": "code",
   "execution_count": null,
   "metadata": {},
   "outputs": [
    {
     "ename": "NameError",
     "evalue": "name 'sc' is not defined",
     "output_type": "error",
     "traceback": [
      "\u001b[0;31m---------------------------------------------------------------------------\u001b[0m",
      "\u001b[0;31mNameError\u001b[0m                                 Traceback (most recent call last)",
      "Cell \u001b[0;32mIn[45], line 1\u001b[0m\n\u001b[0;32m----> 1\u001b[0m \u001b[39mprint\u001b[39m(b_uuid \u001b[39m+\u001b[39m \u001b[39m'\u001b[39m\u001b[39m により離着陸地点の予約はキャンセルされました。\u001b[39m\u001b[39m'\u001b[39m \u001b[39mif\u001b[39;00m sc\u001b[39m.\u001b[39mcancel_reservation(b) \u001b[39melse\u001b[39;00m b_uuid \u001b[39m+\u001b[39m \u001b[39m'\u001b[39m\u001b[39m によっては離着陸地点はキャンセルできませんでした。\u001b[39m\u001b[39m'\u001b[39m)\n\u001b[1;32m      2\u001b[0m \u001b[39m# print(s_uuid + ' により離着陸地点の予約はキャンセルされました。' if sc.cancel_reservation(s) else s_uuid + ' によっては離着陸地点はキャンセルできませんでした。')\u001b[39;00m\n\u001b[1;32m      4\u001b[0m \u001b[39mprint\u001b[39m(\u001b[39m'\u001b[39m\u001b[39m以下ブロックチェーンの内容（トランザクションの履歴）\u001b[39m\u001b[39m'\u001b[39m)\n",
      "\u001b[0;31mNameError\u001b[0m: name 'sc' is not defined"
     ]
    }
   ],
   "source": [
    "print(b_uuid + ' により離着陸地点の予約はキャンセルされました。' if sc.cancel_reservation(b) else b_uuid + ' によっては離着陸地点はキャンセルできませんでした。')\n",
    "# print(s_uuid + ' により離着陸地点の予約はキャンセルされました。' if sc.cancel_reservation(s) else s_uuid + ' によっては離着陸地点はキャンセルできませんでした。')\n",
    "\n",
    "print('以下ブロックチェーンの内容（トランザクションの履歴）')\n",
    "for index, each in enumerate(sc.get_history_of_transactions_by_uuid(s_uuid)):\n",
    "    print(str(index) +' '+ each)\n",
    "\n",
    "sc.get_current_state(s_uuid)"
   ]
  },
  {
   "cell_type": "code",
   "execution_count": null,
   "metadata": {},
   "outputs": [
    {
     "name": "stdout",
     "output_type": "stream",
     "text": [
      "以下ブロックチェーンの内容（トランザクションの履歴）\n"
     ]
    },
    {
     "ename": "NameError",
     "evalue": "name 'sc' is not defined",
     "output_type": "error",
     "traceback": [
      "\u001b[0;31m---------------------------------------------------------------------------\u001b[0m",
      "\u001b[0;31mNameError\u001b[0m                                 Traceback (most recent call last)",
      "Cell \u001b[0;32mIn[46], line 2\u001b[0m\n\u001b[1;32m      1\u001b[0m \u001b[39mprint\u001b[39m(\u001b[39m'\u001b[39m\u001b[39m以下ブロックチェーンの内容（トランザクションの履歴）\u001b[39m\u001b[39m'\u001b[39m)\n\u001b[0;32m----> 2\u001b[0m \u001b[39mfor\u001b[39;00m index, each \u001b[39min\u001b[39;00m \u001b[39menumerate\u001b[39m(sc\u001b[39m.\u001b[39mget_history_of_transactions_by_uuid(s_uuid)):\n\u001b[1;32m      3\u001b[0m     \u001b[39mprint\u001b[39m(\u001b[39mstr\u001b[39m(index) \u001b[39m+\u001b[39m\u001b[39m'\u001b[39m\u001b[39m \u001b[39m\u001b[39m'\u001b[39m\u001b[39m+\u001b[39m each)\n\u001b[1;32m      5\u001b[0m sc\u001b[39m.\u001b[39mget_current_state(s_uuid)\n",
      "\u001b[0;31mNameError\u001b[0m: name 'sc' is not defined"
     ]
    }
   ],
   "source": [
    "print('以下ブロックチェーンの内容（トランザクションの履歴）')\n",
    "for index, each in enumerate(sc.get_history_of_transactions_by_uuid(s_uuid)):\n",
    "    print(str(index) +' '+ each)\n",
    "\n",
    "sc.get_current_state(s_uuid)"
   ]
  },
  {
   "cell_type": "code",
   "execution_count": null,
   "metadata": {},
   "outputs": [
    {
     "ename": "NameError",
     "evalue": "name 'sc' is not defined",
     "output_type": "error",
     "traceback": [
      "\u001b[0;31m---------------------------------------------------------------------------\u001b[0m",
      "\u001b[0;31mNameError\u001b[0m                                 Traceback (most recent call last)",
      "Cell \u001b[0;32mIn[47], line 1\u001b[0m\n\u001b[0;32m----> 1\u001b[0m \u001b[39mprint\u001b[39m(b_uuid \u001b[39m+\u001b[39m \u001b[39m'\u001b[39m\u001b[39m により離着陸地点の予約はキャンセルされました。\u001b[39m\u001b[39m'\u001b[39m \u001b[39mif\u001b[39;00m sc\u001b[39m.\u001b[39mcancel_reservation(b) \u001b[39melse\u001b[39;00m b_uuid \u001b[39m+\u001b[39m \u001b[39m'\u001b[39m\u001b[39m によっては離着陸地点はキャンセルできませんでした。\u001b[39m\u001b[39m'\u001b[39m)\n\u001b[1;32m      3\u001b[0m \u001b[39mprint\u001b[39m(\u001b[39m'\u001b[39m\u001b[39m以下ブロックチェーンの内容（トランザクションの履歴）\u001b[39m\u001b[39m'\u001b[39m)\n\u001b[1;32m      4\u001b[0m \u001b[39mfor\u001b[39;00m index, each \u001b[39min\u001b[39;00m \u001b[39menumerate\u001b[39m(sc\u001b[39m.\u001b[39mget_history_of_transactions_by_uuid(s_uuid)):\n",
      "\u001b[0;31mNameError\u001b[0m: name 'sc' is not defined"
     ]
    }
   ],
   "source": [
    "print(b_uuid + ' により離着陸地点の予約はキャンセルされました。' if sc.cancel_reservation(b) else b_uuid + ' によっては離着陸地点はキャンセルできませんでした。')\n",
    "\n",
    "print('以下ブロックチェーンの内容（トランザクションの履歴）')\n",
    "for index, each in enumerate(sc.get_history_of_transactions_by_uuid(s_uuid)):\n",
    "    print(str(index) +' '+ each)\n",
    "\n",
    "\n",
    "sc.get_current_state(s_uuid)"
   ]
  },
  {
   "cell_type": "markdown",
   "metadata": {},
   "source": [
    "### 片付け"
   ]
  },
  {
   "cell_type": "code",
   "execution_count": null,
   "metadata": {},
   "outputs": [],
   "source": [
    "worker.terminate()\n",
    "worker.kill()\n",
    "for worker in workers:\n",
    "    worker.terminate()\n",
    "    worker.kill()\n",
    "network.shutdown()"
   ]
  },
  {
   "cell_type": "markdown",
   "metadata": {},
   "source": [
    "# おわりに\n",
    "- 本物のBitCoinとは異なる部分がたくさんあります\n",
    "\n",
    "# 参考文献\n",
    "- [Bitcoin white paper](https://bitcoin.org/bitcoin.pdf)\n",
    "    - 専門外でも読みやすいです\n",
    "- [Bitcoin Wiki](https://en.bitcoin.it/wiki/Main_Page)\n",
    "    - 非常に情報量が多いです"
   ]
  },
  {
   "cell_type": "markdown",
   "metadata": {},
   "source": []
  }
 ],
 "metadata": {
  "kernelspec": {
   "display_name": ".venv",
   "language": "python",
   "name": "python3"
  },
  "language_info": {
   "codemirror_mode": {
    "name": "ipython",
    "version": 3
   },
   "file_extension": ".py",
   "mimetype": "text/x-python",
   "name": "python",
   "nbconvert_exporter": "python",
   "pygments_lexer": "ipython3",
   "version": "3.10.6"
  },
  "vscode": {
   "interpreter": {
    "hash": "661e38f5155e862abda6892e8e119fb182f4c7cb3098e1294323e0d6077d0ba4"
   }
  }
 },
 "nbformat": 4,
 "nbformat_minor": 2
}
